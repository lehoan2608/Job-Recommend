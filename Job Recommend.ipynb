{
 "cells": [
  {
   "cell_type": "markdown",
   "metadata": {
    "application/vnd.databricks.v1+cell": {
     "cellMetadata": {},
     "inputWidgets": {},
     "nuid": "6d67d45e-0e01-4bd5-a81c-e20bf8d855ec",
     "showTitle": false,
     "tableResultSettingsMap": {},
     "title": ""
    }
   },
   "source": [
    "1-Cài đặt thư viện và khởi tạo Session"
   ]
  },
  {
   "cell_type": "code",
   "execution_count": 0,
   "metadata": {
    "application/vnd.databricks.v1+cell": {
     "cellMetadata": {
      "byteLimit": 2048000,
      "rowLimit": 10000
     },
     "inputWidgets": {},
     "nuid": "5f15f20c-ea14-4c6f-bdcc-c949452329db",
     "showTitle": false,
     "tableResultSettingsMap": {},
     "title": ""
    }
   },
   "outputs": [
    {
     "output_type": "stream",
     "name": "stdout",
     "output_type": "stream",
     "text": [
      "Python interpreter will be restarted.\nCollecting nltk\n  Downloading nltk-3.9.1-py3-none-any.whl (1.5 MB)\nCollecting regex>=2021.8.3\n  Downloading regex-2024.11.6-cp39-cp39-manylinux_2_17_x86_64.manylinux2014_x86_64.whl (780 kB)\nCollecting tqdm\n  Downloading tqdm-4.67.1-py3-none-any.whl (78 kB)\nRequirement already satisfied: joblib in /databricks/python3/lib/python3.9/site-packages (from nltk) (1.1.1)\nRequirement already satisfied: click in /databricks/python3/lib/python3.9/site-packages (from nltk) (8.0.4)\nInstalling collected packages: tqdm, regex, nltk\nSuccessfully installed nltk-3.9.1 regex-2024.11.6 tqdm-4.67.1\nPython interpreter will be restarted.\n"
     ]
    },
    {
     "output_type": "stream",
     "name": "stderr",
     "output_type": "stream",
     "text": [
      "[nltk_data] Downloading package stopwords to /root/nltk_data...\n[nltk_data]   Unzipping corpora/stopwords.zip.\n[nltk_data] Downloading package wordnet to /root/nltk_data...\n"
     ]
    },
    {
     "output_type": "stream",
     "name": "stdout",
     "output_type": "stream",
     "text": [
      "Out[1]: True"
     ]
    }
   ],
   "source": [
    "%pip install nltk\n",
    "import nltk\n",
    "nltk.download('stopwords')\n",
    "nltk.download('wordnet')"
   ]
  },
  {
   "cell_type": "code",
   "execution_count": 0,
   "metadata": {
    "application/vnd.databricks.v1+cell": {
     "cellMetadata": {
      "byteLimit": 2048000,
      "rowLimit": 10000
     },
     "inputWidgets": {},
     "nuid": "5b1162fc-4c36-4a48-b2aa-63770cf993dc",
     "showTitle": false,
     "tableResultSettingsMap": {},
     "title": ""
    }
   },
   "outputs": [],
   "source": [
    "from pyspark.sql import SparkSession\n",
    "from pyspark.sql.functions import col, udf, lit\n",
    "from pyspark.sql.types import ArrayType, StringType, IntegerType, DoubleType, StructType, StructField\n",
    "from pyspark.ml.feature import CountVectorizer, IDF\n",
    "from pyspark.ml.linalg import SparseVector, VectorUDT\n",
    "import re\n",
    "import string\n",
    "from nltk.corpus import stopwords\n",
    "from nltk.stem import WordNetLemmatizer"
   ]
  },
  {
   "cell_type": "code",
   "execution_count": 0,
   "metadata": {
    "application/vnd.databricks.v1+cell": {
     "cellMetadata": {
      "byteLimit": 2048000,
      "rowLimit": 10000
     },
     "inputWidgets": {},
     "nuid": "e1c7b2ba-5a15-4d3c-9fba-752f2db89d3c",
     "showTitle": false,
     "tableResultSettingsMap": {},
     "title": ""
    }
   },
   "outputs": [],
   "source": [
    "# Khởi tạo Spark session trong Databricks\n",
    "spark = SparkSession.builder.appName(\"JobRecommender\").getOrCreate()\n",
    "\n",
    "# Load stopwords và lemmatizer\n",
    "lemmatizer = WordNetLemmatizer()\n",
    "stopwords_nltk = set(stopwords.words(\"english\"))\n",
    "\n",
    "# Hàm làm sạch và tokenize kỹ năng\n",
    "def clean_tokenize_skills(skills):\n",
    "    if skills is None:\n",
    "        return []\n",
    "    skills = re.sub(r'[^a-zA-Z,\\s]', '', skills).lower()\n",
    "    skills_list = [lemmatizer.lemmatize(skill.strip()) for skill in skills.split(',') if skill.strip() not in stopwords_nltk]\n",
    "    return skills_list\n",
    "\n",
    "clean_tokenize_udf = udf(clean_tokenize_skills, ArrayType(StringType()))\n",
    "\n",
    "# Hàm tính cosine similarity\n",
    "def cosine_similarity(v1, v2):\n",
    "    if v1 is None or v2 is None:\n",
    "        return 0.0\n",
    "    dot_product = float(v1.dot(v2))\n",
    "    norm_v1 = float(v1.norm(2))\n",
    "    norm_v2 = float(v2.norm(2))\n",
    "    return dot_product / (norm_v1 * norm_v2) if norm_v1 * norm_v2 != 0 else 0.0\n",
    "\n",
    "cosine_similarity_udf = udf(cosine_similarity, DoubleType())"
   ]
  },
  {
   "cell_type": "code",
   "execution_count": 0,
   "metadata": {
    "application/vnd.databricks.v1+cell": {
     "cellMetadata": {
      "byteLimit": 2048000,
      "rowLimit": 10000
     },
     "inputWidgets": {},
     "nuid": "4c06c114-bdc2-448f-856a-f5848e721d53",
     "showTitle": false,
     "tableResultSettingsMap": {},
     "title": ""
    }
   },
   "outputs": [
    {
     "output_type": "stream",
     "name": "stdout",
     "output_type": "stream",
     "text": [
      "Out[1]: [FileInfo(path='dbfs:/FileStore/tables/job_skills-1.csv', name='job_skills-1.csv', size=672718092, modificationTime=1744013063000),\n FileInfo(path='dbfs:/FileStore/tables/job_skills.csv', name='job_skills.csv', size=672718092, modificationTime=1743994752000),\n FileInfo(path='dbfs:/FileStore/tables/linkedin_job_postings-1.csv', name='linkedin_job_postings-1.csv', size=415328702, modificationTime=1744012726000),\n FileInfo(path='dbfs:/FileStore/tables/linkedin_job_postings.csv', name='linkedin_job_postings.csv', size=415328702, modificationTime=1743994181000)]"
     ]
    }
   ],
   "source": [
    "# Liệt kê các file trong /FileStore/tables/\n",
    "dbutils.fs.ls(\"/FileStore/tables/\")"
   ]
  },
  {
   "cell_type": "markdown",
   "metadata": {
    "application/vnd.databricks.v1+cell": {
     "cellMetadata": {},
     "inputWidgets": {},
     "nuid": "0d739a0d-5f8e-44d5-8591-6c08f901bb72",
     "showTitle": false,
     "tableResultSettingsMap": {},
     "title": ""
    }
   },
   "source": [
    "2-Load dữ liệu và chuyển thành Delta Table"
   ]
  },
  {
   "cell_type": "code",
   "execution_count": 0,
   "metadata": {
    "application/vnd.databricks.v1+cell": {
     "cellMetadata": {
      "byteLimit": 2048000,
      "rowLimit": 10000
     },
     "inputWidgets": {},
     "nuid": "af14bc5d-ec8e-451a-b856-55411a957f7f",
     "showTitle": false,
     "tableResultSettingsMap": {},
     "title": ""
    }
   },
   "outputs": [
    {
     "output_type": "stream",
     "name": "stdout",
     "output_type": "stream",
     "text": [
      "Dữ liệu của job_skills.csv (5 dòng đầu):\n+--------------------+--------------------+\n|            job_link|          job_skills|\n+--------------------+--------------------+\n|https://www.linke...|Building Custodia...|\n|https://www.linke...|Customer service,...|\n|https://www.linke...|Applied Behavior ...|\n|https://www.linke...|Electrical Engine...|\n|https://www.linke...|Electrical Assemb...|\n+--------------------+--------------------+\nonly showing top 5 rows\n\nSchema của job_skills.csv:\nroot\n |-- job_link: string (nullable = true)\n |-- job_skills: string (nullable = true)\n\nSố dòng trong job_skills.csv: 1296381\n\nDữ liệu của linkedin_job_postings.csv (5 dòng đầu):\n+--------------------+--------------------+-----------+-------+---------------+--------------------+--------------------+--------------------+----------+-----------+--------------+--------------------+----------+--------+\n|            job_link| last_processed_time|got_summary|got_ner|is_being_worked|           job_title|             company|        job_location|first_seen|search_city|search_country|     search_position| job_level|job_type|\n+--------------------+--------------------+-----------+-------+---------------+--------------------+--------------------+--------------------+----------+-----------+--------------+--------------------+----------+--------+\n|https://www.linke...|2024-01-21 07:12:...|          t|      t|              f|Account Executive...|                  BD|       San Diego, CA|2024-01-15|   Coronado| United States|         Color Maker|Mid senior|  Onsite|\n|https://www.linke...|2024-01-21 07:39:...|          t|      t|              f|Registered Nurse ...|   Trinity Health MI|   Norton Shores, MI|2024-01-14|Grand Haven| United States|Director Nursing ...|Mid senior|  Onsite|\n|https://www.linke...|2024-01-21 07:40:...|          t|      t|              f|RESTAURANT SUPERV...|Wasatch Adaptive ...|           Sandy, UT|2024-01-14|     Tooele| United States|            Stand-In|Mid senior|  Onsite|\n|https://www.linke...|2024-01-21 07:40:...|          t|      t|              f|Independent Real ...|Howard Hanna | Ra...|Englewood Cliffs, NJ|2024-01-16|  Pinehurst| United States|   Real-Estate Clerk|Mid senior|  Onsite|\n|https://www.linke...|2024-01-19 09:45:...|          f|      f|              f|Group/Unit Superv...|IRS, Office of Ch...|        Chamblee, GA|2024-01-17|    Gadsden| United States|Supervisor Travel...|Mid senior|  Onsite|\n+--------------------+--------------------+-----------+-------+---------------+--------------------+--------------------+--------------------+----------+-----------+--------------+--------------------+----------+--------+\nonly showing top 5 rows\n\nSchema của linkedin_job_postings.csv:\nroot\n |-- job_link: string (nullable = true)\n |-- last_processed_time: string (nullable = true)\n |-- got_summary: string (nullable = true)\n |-- got_ner: string (nullable = true)\n |-- is_being_worked: string (nullable = true)\n |-- job_title: string (nullable = true)\n |-- company: string (nullable = true)\n |-- job_location: string (nullable = true)\n |-- first_seen: string (nullable = true)\n |-- search_city: string (nullable = true)\n |-- search_country: string (nullable = true)\n |-- search_position: string (nullable = true)\n |-- job_level: string (nullable = true)\n |-- job_type: string (nullable = true)\n\nSố dòng trong linkedin_job_postings.csv: 1348488\n"
     ]
    }
   ],
   "source": [
    "# Đọc file job_skills.csv từ DBFS\n",
    "df_job_skills = spark.read.format(\"csv\") \\\n",
    "    .option(\"header\", \"true\") \\\n",
    "    .option(\"inferSchema\", \"true\") \\\n",
    "    .load(\"dbfs:/FileStore/tables/job_skills.csv\")\n",
    "\n",
    "print(\"Dữ liệu của job_skills.csv (5 dòng đầu):\")\n",
    "df_job_skills.show(5)\n",
    "\n",
    "print(\"Schema của job_skills.csv:\")\n",
    "df_job_skills.printSchema()\n",
    "\n",
    "print(\"Số dòng trong job_skills.csv:\", df_job_skills.count())\n",
    "\n",
    "# Đọc file linkedin_job_postings.csv từ DBFS\n",
    "df_job_postings = spark.read.format(\"csv\") \\\n",
    "    .option(\"header\", \"true\") \\\n",
    "    .option(\"inferSchema\", \"true\") \\\n",
    "    .load(\"dbfs:/FileStore/tables/linkedin_job_postings.csv\")\n",
    "\n",
    "print(\"\\nDữ liệu của linkedin_job_postings.csv (5 dòng đầu):\")\n",
    "df_job_postings.show(5)\n",
    "\n",
    "print(\"Schema của linkedin_job_postings.csv:\")\n",
    "df_job_postings.printSchema()\n",
    "\n",
    "print(\"Số dòng trong linkedin_job_postings.csv:\", df_job_postings.count())"
   ]
  },
  {
   "cell_type": "code",
   "execution_count": 0,
   "metadata": {
    "application/vnd.databricks.v1+cell": {
     "cellMetadata": {
      "byteLimit": 2048000,
      "rowLimit": 10000
     },
     "inputWidgets": {},
     "nuid": "00671b5b-3d36-4abc-9dd9-c959a88376e7",
     "showTitle": false,
     "tableResultSettingsMap": {},
     "title": ""
    }
   },
   "outputs": [
    {
     "output_type": "stream",
     "name": "stdout",
     "output_type": "stream",
     "text": [
      "+--------------------+--------------------+--------------------+--------------------+--------------------+----------+------------+--------------+------------------+----------+--------+--------------------+\n|            job_link| last_processed_time|           job_title|             company|        job_location|first_seen| search_city|search_country|   search_position| job_level|job_type|          job_skills|\n+--------------------+--------------------+--------------------+--------------------+--------------------+----------+------------+--------------+------------------+----------+--------+--------------------+\n|https://ae.linked...|2024-01-21 07:21:...|        EVS Operator|              Sundus|Abu Dhabi, Abu Dh...|2024-01-17|Saint Joseph| United States|     Unit Operator|Mid senior|  Onsite|EVS, EVS Operator...|\n|https://ae.linked...|2024-01-21 14:09:...|Operations Superv...|       Skydive Dubai|Dubai, United Ara...|2024-01-17|  Gloucester| United States|  Supervisor Rides| Associate|  Onsite|Operations manage...|\n|https://ae.linked...|2024-01-19 17:30:...|Production Assistant|              Sundus|United Arab Emirates|2024-01-16|North Dakota| United States|     Grading Clerk| Associate|  Onsite|Monitoring, Gradi...|\n|https://ae.linked...|2024-01-21 03:25:...|Project Operation...|              Taqeef|Dubai, United Ara...|2024-01-14|    San Jose| United States|Standards Engineer| Associate|  Onsite|Project Managemen...|\n|https://au.linked...|2024-01-19 09:45:...|Associate Nurse U...|The Royal Melbour...|Little River, Vic...|2024-01-13|    Victoria|     Australia|Electronics Worker|Mid senior|  Onsite|Mental health nur...|\n+--------------------+--------------------+--------------------+--------------------+--------------------+----------+------------+--------------+------------------+----------+--------+--------------------+\nonly showing top 5 rows\n\nroot\n |-- job_link: string (nullable = true)\n |-- last_processed_time: string (nullable = true)\n |-- job_title: string (nullable = true)\n |-- company: string (nullable = true)\n |-- job_location: string (nullable = true)\n |-- first_seen: string (nullable = true)\n |-- search_city: string (nullable = true)\n |-- search_country: string (nullable = true)\n |-- search_position: string (nullable = true)\n |-- job_level: string (nullable = true)\n |-- job_type: string (nullable = true)\n |-- job_skills: string (nullable = true)\n\nSố dòng trong Delta Table job_posts_skills: 1296381\n"
     ]
    }
   ],
   "source": [
    "# Đọc file job_skills.csv và job_postings.csv rồi chuyển thành Delta Table\n",
    "df_job_skills.write.format(\"delta\") \\\n",
    "    .mode(\"overwrite\") \\\n",
    "    .save(\"/FileStore/delta/job_skills\")\n",
    "\n",
    "df_job_postings.write.format(\"delta\") \\\n",
    "    .mode(\"overwrite\") \\\n",
    "    .save(\"/FileStore/delta/linkedin_job_postings\")\n",
    "\n",
    "# Đọc Delta Table từ đường dẫn\n",
    "delta_job_skills = spark.read.format(\"delta\").load(\"/FileStore/delta/job_skills\")\n",
    "delta_job_postings = spark.read.format(\"delta\").load(\"/FileStore/delta/linkedin_job_postings\")\n",
    "\n",
    "# Gộp hai Delta Table trên cột job_link\n",
    "df_combined = delta_job_postings.join(delta_job_skills, on=\"job_link\", how=\"inner\")\n",
    "\n",
    "# Xóa các cột không cần thiết: got_summary, got_ner, is_being_worked\n",
    "columns_to_drop = [\"got_summary\", \"got_ner\", \"is_being_worked\"]\n",
    "df_combined = df_combined.drop(*columns_to_drop)\n",
    "\n",
    "# Xóa thư mục Delta Table cũ để đảm bảo schema được cập nhật\n",
    "dbutils.fs.rm(\"/FileStore/delta/job_posts_skills\", recurse=True)\n",
    "\n",
    "# Lưu Delta Table gộp với tên job_posts_skills\n",
    "df_combined.write.format(\"delta\") \\\n",
    "    .mode(\"overwrite\") \\\n",
    "    .save(\"/FileStore/delta/job_posts_skills\")\n",
    "\n",
    "# Đọc Delta Table gộp để kiểm tra\n",
    "df_combined_final = spark.read.format(\"delta\").load(\"/FileStore/delta/job_posts_skills\")\n",
    "df_combined_final.show(5)\n",
    "df_combined_final.printSchema()\n",
    "print(\"Số dòng trong Delta Table job_posts_skills:\", df_combined_final.count())"
   ]
  },
  {
   "cell_type": "markdown",
   "metadata": {
    "application/vnd.databricks.v1+cell": {
     "cellMetadata": {},
     "inputWidgets": {},
     "nuid": "43eba29f-4b8d-4a0b-afaa-a0fc991d60cc",
     "showTitle": false,
     "tableResultSettingsMap": {},
     "title": ""
    }
   },
   "source": [
    "3-Load và tiền xử lý dữ liệu job_posts_skills"
   ]
  },
  {
   "cell_type": "code",
   "execution_count": 0,
   "metadata": {
    "application/vnd.databricks.v1+cell": {
     "cellMetadata": {
      "byteLimit": 2048000,
      "rowLimit": 10000
     },
     "inputWidgets": {},
     "nuid": "9fc9a04d-51b2-4762-b432-8734580457df",
     "showTitle": false,
     "tableResultSettingsMap": {},
     "title": ""
    }
   },
   "outputs": [
    {
     "output_type": "stream",
     "name": "stdout",
     "output_type": "stream",
     "text": [
      "Schema của df_posts_skills sau khi load từ Delta Table:\nroot\n |-- job_link: string (nullable = true)\n |-- last_processed_time: string (nullable = true)\n |-- job_title: string (nullable = true)\n |-- company: string (nullable = true)\n |-- job_location: string (nullable = true)\n |-- first_seen: string (nullable = true)\n |-- search_city: string (nullable = true)\n |-- search_country: string (nullable = true)\n |-- search_position: string (nullable = true)\n |-- job_level: string (nullable = true)\n |-- job_type: string (nullable = true)\n |-- job_skills: string (nullable = true)\n\n"
     ]
    }
   ],
   "source": [
    "# Bước 3: Load dữ liệu từ Delta Lake\n",
    "job_post_skills_path = \"/FileStore/delta/job_posts_skills\"\n",
    "df_posts_skills = spark.read.format(\"delta\").load(job_post_skills_path)\n",
    "\n",
    "print(\"Schema của df_posts_skills sau khi load từ Delta Table:\")\n",
    "df_posts_skills.printSchema()\n",
    "\n",
    "#Làm sạch dữ liệu\n",
    "df_posts_skills = df_posts_skills.na.drop(subset=[\"job_skills\"])\n",
    "df_posts_skills = df_posts_skills.filter(col(\"job_skills\") != \"\")\n",
    "\n",
    "# Áp dụng xử lý kỹ năng\n",
    "df_posts_skills = df_posts_skills.withColumn(\"cleaned_job_skills\", clean_tokenize_udf(col(\"job_skills\")))\n",
    "\n",
    "# Vector hóa dữ liệu\n",
    "vectorizer = CountVectorizer(inputCol=\"cleaned_job_skills\", outputCol=\"skills_frequency\", minDF=10)\n",
    "vectorizer_model = vectorizer.fit(df_posts_skills)\n",
    "df_posts_skills = vectorizer_model.transform(df_posts_skills)\n",
    "\n",
    "# Tính toán TF-IDF\n",
    "idf = IDF(inputCol=\"skills_frequency\", outputCol=\"skills_tfidf\")\n",
    "idf_model = idf.fit(df_posts_skills)\n",
    "df_posts_skills = idf_model.transform(df_posts_skills)\n",
    "\n",
    "# Đăng ký DataFrame như một bảng tạm thời\n",
    "df_posts_skills.createOrReplaceTempView(\"job_posts\")"
   ]
  },
  {
   "cell_type": "markdown",
   "metadata": {
    "application/vnd.databricks.v1+cell": {
     "cellMetadata": {},
     "inputWidgets": {},
     "nuid": "4007ad88-92c9-4753-83b4-8d96135969ce",
     "showTitle": false,
     "tableResultSettingsMap": {},
     "title": ""
    }
   },
   "source": [
    "4-Nhập profile ứng viên"
   ]
  },
  {
   "cell_type": "code",
   "execution_count": 0,
   "metadata": {
    "application/vnd.databricks.v1+cell": {
     "cellMetadata": {
      "byteLimit": 2048000,
      "rowLimit": 10000
     },
     "inputWidgets": {},
     "nuid": "c54a05fd-0e23-4fe8-b22b-8349b471ef73",
     "showTitle": false,
     "tableResultSettingsMap": {},
     "title": ""
    }
   },
   "outputs": [],
   "source": [
    "# Bước 4: Nhập dữ liệu ứng viên thủ công\n",
    "schema = StructType([\n",
    "    StructField(\"sn\", StringType(), True),\n",
    "    StructField(\"search_city\", StringType(), True),\n",
    "    StructField(\"search_country\", StringType(), True),\n",
    "    StructField(\"job_level\", StringType(), True),\n",
    "    StructField(\"job_type\", StringType(), True),\n",
    "    StructField(\"job_skills\", StringType(), True)\n",
    "])\n",
    "\n",
    "# Nhập thông tin ứng viên mới\n",
    "user_input = [\n",
    "    (\"001\", \"Grand Haven\", \"United States\", \"Mid senior\", \"Onsite\", \"Nursing, Bachelor of Science in Nursing, Masters Degree in Nursing, Care management experience, Clinical experience in nursing, Licensure to practice nursing in Michigan, Population management, Selfmanagement, Education, Oversight of registries, Patient education, Patient selfmanagement, Patient care coordination, Chronic condition management\"),\n",
    "    (\"002\", \"Coronado\", \"United States\", \"Mid senior\", \"Onsite\", \"RF power amplifier design, Analogue circuit design, OFDM/OFDMA 802.11 4G 5G, Cadence schematic capture layout and simulation tools, EM simulations, EMX RFPro/Momentum HFSS,Wireless communications, MATLAB, Python, Data analysis\"),\n",
    "    (\"003\", \"Milwaukee\", \"United States\", \"Mid senior\", \"Onsite\", \"Chef de Cuisine, Executive Sous Chef, Hospitality, Culinary, Food and Beverage, Menu Development, Menu Engineering, Food Preparation, Sanitation, Food and Labor Cost Control, Multitasking, Time Management, ServSafe Certification, High School Diploma, Culinary Schooling, Apprenticeship, Work Experience\"),\n",
    "    (\"004\", \"Manitoba\", \"Canada\", \"Mid senior\", \"Onsite\", \"AUTOCAD, MS Project, Building Code Compliance, Construction methods, Sustainability design concepts, Barrierfree access, Environmental risks, Engineering, Project management, Construction management, Medical gases, Plumbing, Steam\"), #Engineering Project Coordinator(9)\n",
    "    (\"005\", \"Nebraska\", \"United States\", \"Associate\", \"Onsite\", \"Control Systems Integration, PLC Programming, HMI Programming, Operator Interface Terminal Programming, Control System Software Installation, Lead Programming, Automation Staff Supervision, Mentorship, System Startup, Client Relationship Development, Selection and Specification of PLCs and HMIs, Instrumentation, Schematic Development\"),#Control Systems Integration Engineer(13)\n",
    "    (\"006\", \"Carmel\", \"United States\", \"Mid senior\", \"Onsite\", \"Cashier, Stocker, Lead capacity, Planograms, Customer service, Unloading trucks, Receiving, Opening cartons, Unpacking cartons and totes, Stocking merchandise, Rotating merchandise, Facing merchandise, Building merchandise displays, Restock merchandise\"),#LEAD SALES ASSOCIATE-PT(14)\n",
    "    (\"007\", \"Calumet City\", \"United States\", \"Associate\", \"Onsite\", \"Microsoft Office Suite, UML, Flow Charting Software, Change Control/Defect Tracking Software, Project Management Methodologies, Design Tools, Bachelor's Degree in Computer Science, Understanding of SOA (Service Oriented Architecture), ASP.NET, SQL, XML, Design Patterns, Researching, Planning, Recommending Software and Systems Solutions\"),#Product Analyst(16)\n",
    "    (\"008\", \"Basildon\", \"United Kingdom\", \"Mid senior\", \"Onsite\", \"English (language), CV (document), Europe (location), River Thames (location), Greenwich Peninsula (location)\"),#Property Manager(27)\n",
    "    (\"009\", \"Lawton\", \"United States\", \"Associate\", \"Onsite\", \"Public relations, Planning and zoning, Building codes, Land use regulations, Surveying, Geometry, Mathematics, AutoCAD\"),#Development Services Technician(50)\n",
    "    (\"010\", \"Ridgewood\", \"United States\", \"Mid senior\", \"Onsite\", \"Sales, Leadership, Mentoring, Communication, Coaching, Strategic Planning, Execution, Business Development, Team Management, Customer Relationship Management, Product Knowledge, Compliance, Regulatory, Pharmaceutical Sales, Management, Strategic Thinking, Decision Making, Talent Management, Excel, Word, Outlook, Database Applications, Bachelor's Degree, Business, Marketing, Life Sciences, CRM, Salesforce\"),#Regional Sales Manager(54)\n",
    "]\n",
    "df_queries = spark.createDataFrame(user_input, schema)\n",
    "\n",
    "# Làm sạch dữ liệu\n",
    "df_queries = df_queries.na.drop(subset=[\"job_skills\"])\n",
    "df_queries = df_queries.filter(col(\"job_skills\") != \"\")\n",
    "\n",
    "# Áp dụng xử lý kỹ năng cho ứng viên\n",
    "df_queries = df_queries.withColumn(\"cleaned_job_skills\", clean_tokenize_udf(col(\"job_skills\")))\n",
    "\n",
    "# Vector hóa và tính TF-IDF cho ứng viên\n",
    "df_queries = vectorizer_model.transform(df_queries)\n",
    "df_queries = idf_model.transform(df_queries)\n",
    "\n",
    "# Đăng ký DataFrame như một bảng tạm thời\n",
    "df_queries.createOrReplaceTempView(\"df_queries\")"
   ]
  },
  {
   "cell_type": "markdown",
   "metadata": {
    "application/vnd.databricks.v1+cell": {
     "cellMetadata": {},
     "inputWidgets": {},
     "nuid": "48b8bb2f-c784-462d-bcc5-b02bb728e1e5",
     "showTitle": false,
     "tableResultSettingsMap": {},
     "title": ""
    }
   },
   "source": [
    "5-Tính toán độ tương đồng và tìm top 5 công việc"
   ]
  },
  {
   "cell_type": "code",
   "execution_count": 0,
   "metadata": {
    "application/vnd.databricks.v1+cell": {
     "cellMetadata": {
      "byteLimit": 2048000,
      "rowLimit": 10000
     },
     "inputWidgets": {},
     "nuid": "a5cdbedc-bf31-49b8-88b9-fe2f0dd6aa71",
     "showTitle": false,
     "tableResultSettingsMap": {},
     "title": ""
    }
   },
   "outputs": [
    {
     "output_type": "stream",
     "name": "stdout",
     "output_type": "stream",
     "text": [
      "{'job_suitability_rank': 1, 'query_sn': '001', 'company': 'Trinity Health MI', 'job_link': 'https://www.linkedin.com/jobs/view/registered-nurse-rn-care-manager-at-trinity-health-mi-3803386312', 'job_location': 'Norton Shores, MI', 'similarity_score': 1.0}\n{'job_suitability_rank': 2, 'query_sn': '001', 'company': 'Trinity Health', 'job_link': 'https://www.linkedin.com/jobs/view/registered-nurse-rn-care-manager-at-trinity-health-3799201324', 'job_location': 'Norton Shores, MI', 'similarity_score': 0.5573762752845485}\n{'job_suitability_rank': 3, 'query_sn': '001', 'company': 'Hackley Community Care', 'job_link': 'https://www.linkedin.com/jobs/view/registered-nurse-rn-at-hackley-community-care-3777279642', 'job_location': 'Muskegon, MI', 'similarity_score': 0.21822716116317176}\n{'job_suitability_rank': 4, 'query_sn': '001', 'company': 'Saint Joseph Mercy Health System', 'job_link': 'https://www.linkedin.com/jobs/view/registered-nurse-emergency-department-7a-7-30p-24hrs-per-week-at-saint-joseph-mercy-health-system-3784380723', 'job_location': 'Muskegon, MI', 'similarity_score': 0.18632111253209027}\n{'job_suitability_rank': 5, 'query_sn': '001', 'company': 'Saint Joseph Mercy Health System', 'job_link': 'https://www.linkedin.com/jobs/view/registered-nurse-rn-care-manager-at-saint-joseph-mercy-health-system-3803344133', 'job_location': 'Norton Shores, MI', 'similarity_score': 0.16853647196402996}\n{'job_suitability_rank': 1, 'query_sn': '002', 'company': 'QuantalRF', 'job_link': 'https://www.linkedin.com/jobs/view/principal-rfic-power-amplifier-design-engineer-at-quantalrf-3787746484', 'job_location': 'San Diego, CA', 'similarity_score': 0.9999999999999998}\n{'job_suitability_rank': 2, 'query_sn': '002', 'company': 'ClearanceJobs', 'job_link': 'https://www.linkedin.com/jobs/view/digital-signal-process-engineer-sr-23-033-with-security-clearance-at-clearancejobs-3753472438', 'job_location': 'San Diego, CA', 'similarity_score': 0.13876423693742826}\n{'job_suitability_rank': 3, 'query_sn': '002', 'company': 'Exact Sciences', 'job_link': 'https://www.linkedin.com/jobs/view/senior-bioinformatics-scientist-at-exact-sciences-3792998507', 'job_location': 'San Diego, CA', 'similarity_score': 0.09987112458285595}\n{'job_suitability_rank': 4, 'query_sn': '002', 'company': 'Natilus', 'job_link': 'https://www.linkedin.com/jobs/view/lead-autopilot-gnc-engineer-at-natilus-3638525392', 'job_location': 'San Diego, CA', 'similarity_score': 0.0779811570044034}\n{'job_suitability_rank': 5, 'query_sn': '002', 'company': 'Leonardo DRS', 'job_link': 'https://www.linkedin.com/jobs/view/senior-principal-electro-optical-engineer-at-leonardo-drs-3793889578', 'job_location': 'San Diego, CA', 'similarity_score': 0.07511950360856548}\n{'job_suitability_rank': 1, 'query_sn': '003', 'company': 'Goodwin Recruiting', 'job_link': 'https://www.linkedin.com/jobs/view/chef-de-cuisine-at-goodwin-recruiting-3805761853', 'job_location': 'Brookfield, WI', 'similarity_score': 0.9880913353966563}\n{'job_suitability_rank': 2, 'query_sn': '003', 'company': 'The Union House, Fine Dining', 'job_link': 'https://www.linkedin.com/jobs/view/sous-chef-at-the-union-house-fine-dining-3787838849', 'job_location': 'Milwaukee, WI', 'similarity_score': 0.16801429254972455}\n{'job_suitability_rank': 3, 'query_sn': '003', 'company': \"Bertucci's\", 'job_link': 'https://www.linkedin.com/jobs/view/bravo-host-at-bertucci-s-3670729205', 'job_location': 'Brookfield, WI', 'similarity_score': 0.14662195167403572}\n{'job_suitability_rank': 4, 'query_sn': '003', 'company': 'Earl Enterprises', 'job_link': 'https://www.linkedin.com/jobs/view/bravo-host-bravo-brookfield-at-earl-enterprises-3670725900', 'job_location': 'Brookfield, WI', 'similarity_score': 0.1412224158312091}\n{'job_suitability_rank': 5, 'query_sn': '003', 'company': \"Maggiano's Little Italy\", 'job_link': 'https://www.linkedin.com/jobs/view/restaurant-manager-at-maggiano-s-little-italy-3586346752', 'job_location': 'Milwaukee, WI', 'similarity_score': 0.13826915112079338}\n{'job_suitability_rank': 1, 'query_sn': '004', 'company': 'Shared Health-Soins Communs', 'job_link': 'https://ca.linkedin.com/jobs/view/engineering-project-coordinator-at-shared-health-soins-communs-3767503688', 'job_location': 'Winnipeg, Manitoba, Canada', 'similarity_score': 0.6227528616809993}\n{'job_suitability_rank': 2, 'query_sn': '004', 'company': 'Bird Construction', 'job_link': 'https://ca.linkedin.com/jobs/view/senior-project-manager-at-bird-construction-3800438330', 'job_location': 'Winnipeg, Manitoba, Canada', 'similarity_score': 0.14062922621939664}\n{'job_suitability_rank': 3, 'query_sn': '004', 'company': 'Colliers Project Leaders | Canada', 'job_link': 'https://ca.linkedin.com/jobs/view/project-manager-at-colliers-project-leaders-canada-3767684577', 'job_location': 'Winnipeg, Manitoba, Canada', 'similarity_score': 0.12418848140723406}\n{'job_suitability_rank': 4, 'query_sn': '004', 'company': 'DMC Recruitment Group', 'job_link': 'https://ca.linkedin.com/jobs/view/senior-project-manager-at-dmc-recruitment-group-3801585855', 'job_location': 'Victoria, Manitoba, Canada', 'similarity_score': 0.11056886370728972}\n{'job_suitability_rank': 5, 'query_sn': '004', 'company': 'BGIS', 'job_link': 'https://ca.linkedin.com/jobs/view/charg%C3%A9-de-projet-s%C3%A9nior-at-bgis-3785854187', 'job_location': 'Winnipeg, Manitoba, Canada', 'similarity_score': 0.09652784065799977}\n{'job_suitability_rank': 1, 'query_sn': '005', 'company': 'Olsson', 'job_link': 'https://www.linkedin.com/jobs/view/control-systems-integration-engineer-at-olsson-3793857817', 'job_location': 'Lincoln, NE', 'similarity_score': 0.5944994146319769}\n{'job_suitability_rank': 2, 'query_sn': '005', 'company': 'Olsson', 'job_link': 'https://www.linkedin.com/jobs/view/control-systems-integration-engineer-at-olsson-3793858841', 'job_location': 'Omaha, NE', 'similarity_score': 0.48175850811038434}\n{'job_suitability_rank': 3, 'query_sn': '005', 'company': 'Cargill', 'job_link': 'https://www.linkedin.com/jobs/view/ae-i-lead-at-cargill-3801439972', 'job_location': 'Columbus, NE', 'similarity_score': 0.07837825508964917}\n{'job_suitability_rank': 4, 'query_sn': '005', 'company': 'Cargill', 'job_link': 'https://www.linkedin.com/jobs/view/ae-i-technician-at-cargill-3745037053', 'job_location': 'Nebraska City, NE', 'similarity_score': 0.07631888991126792}\n{'job_suitability_rank': 5, 'query_sn': '005', 'company': 'Cargill', 'job_link': 'https://www.linkedin.com/jobs/view/maintenance-technician-iii-at-cargill-3807747882', 'job_location': 'Columbus, NE', 'similarity_score': 0.06971369457264881}\n{'job_suitability_rank': 1, 'query_sn': '006', 'company': 'Dollar General', 'job_link': 'https://www.linkedin.com/jobs/view/lead-sales-associate-pt-at-dollar-general-3580065885', 'job_location': 'Tipton, IN', 'similarity_score': 0.385733080783695}\n{'job_suitability_rank': 2, 'query_sn': '006', 'company': 'Goodwill of Central & Southern Indiana', 'job_link': 'https://www.linkedin.com/jobs/view/retail-associate-part-time-west-washington-st-indianapolis-at-goodwill-of-central-southern-indiana-3796424455', 'job_location': 'Indiana, United States', 'similarity_score': 0.040931301273062604}\n{'job_suitability_rank': 3, 'query_sn': '006', 'company': 'Goodwill of Central & Southern Indiana', 'job_link': 'https://www.linkedin.com/jobs/view/retail-associate-part-time-crawfordsville-in-at-goodwill-of-central-southern-indiana-3796421574', 'job_location': 'Indiana, United States', 'similarity_score': 0.03748985304005502}\n{'job_suitability_rank': 4, 'query_sn': '006', 'company': 'Davidson Hospitality Group', 'job_link': 'https://www.linkedin.com/jobs/view/purchasing-and-receiving-manager-at-davidson-hospitality-group-3777074000', 'job_location': 'Indianapolis, IN', 'similarity_score': 0.036756071269790844}\n{'job_suitability_rank': 5, 'query_sn': '006', 'company': 'Goodwill of Central & Southern Indiana', 'job_link': 'https://www.linkedin.com/jobs/view/retail-associate-part-time-avon-in-at-goodwill-of-central-southern-indiana-3796424444', 'job_location': 'Indiana, United States', 'similarity_score': 0.03531217678558329}\n{'job_suitability_rank': 1, 'query_sn': '007', 'company': 'KPMG US', 'job_link': 'https://www.linkedin.com/jobs/view/senior-associate-tax-product-analyst-at-kpmg-us-3764869128', 'job_location': 'Chicago, IL', 'similarity_score': 0.9735469295818787}\n{'job_suitability_rank': 2, 'query_sn': '007', 'company': 'TechnoGen, Inc.', 'job_link': 'https://www.linkedin.com/jobs/view/pacs-cpacs-hemo-implementation-specialist-at-technogen-inc-3800249519', 'job_location': 'Chicago, IL', 'similarity_score': 0.028211508752682617}\n{'job_suitability_rank': 3, 'query_sn': '007', 'company': 'Sudler Property Management', 'job_link': 'https://www.linkedin.com/jobs/view/property-manager-at-sudler-property-management-3806867162', 'job_location': 'Chicago, IL', 'similarity_score': 0.025688680369388924}\n{'job_suitability_rank': 4, 'query_sn': '007', 'company': 'Agoda', 'job_link': 'https://www.linkedin.com/jobs/view/senior-analyst-bangkok-based-relocation-provided-at-agoda-3748492368', 'job_location': 'Chicago, IL', 'similarity_score': 0.025175504192966696}\n{'job_suitability_rank': 5, 'query_sn': '007', 'company': 'BLACK - Building Leadership And Community Knowledge', 'job_link': 'https://www.linkedin.com/jobs/view/volunteer-executive-director-at-black-building-leadership-and-community-knowledge-3803987946', 'job_location': 'Chicago, IL', 'similarity_score': 0.02505005980695974}\n{'job_suitability_rank': 1, 'query_sn': '008', 'company': 'Knight Dragon Ltd', 'job_link': 'https://uk.linkedin.com/jobs/view/property-manager-at-knight-dragon-ltd-3805009895', 'job_location': 'Royal Borough of Greenwich, England, United Kingdom', 'similarity_score': 1.0}\n{'job_suitability_rank': 2, 'query_sn': '008', 'company': 'HM Prison and Probation Service', 'job_link': 'https://uk.linkedin.com/jobs/view/rrpa-diary-manager-london-approved-premises-ref-76835-at-hm-prison-and-probation-service-3772076193', 'job_location': 'Southwark, England, United Kingdom', 'similarity_score': 0.31845510649150566}\n{'job_suitability_rank': 3, 'query_sn': '008', 'company': 'RWE', 'job_link': 'https://uk.linkedin.com/jobs/view/cable-transport-installation-manager-japan-at-rwe-3789009132', 'job_location': 'Moorgate, England, United Kingdom', 'similarity_score': 0.2595476628913743}\n{'job_suitability_rank': 4, 'query_sn': '008', 'company': 'Energy Jobline', 'job_link': 'https://uk.linkedin.com/jobs/view/production-team-leaders-days-at-energy-jobline-3803177048', 'job_location': 'Northfleet, England, United Kingdom', 'similarity_score': 0.19661195879017046}\n{'job_suitability_rank': 5, 'query_sn': '008', 'company': 'Jupiter Recruitment Corporation Ltd', 'job_link': 'https://uk.linkedin.com/jobs/view/general-practitioner-at-jupiter-recruitment-corporation-ltd-3804404066', 'job_location': 'Witham, England, United Kingdom', 'similarity_score': 0.19507207764172033}\n{'job_suitability_rank': 1, 'query_sn': '009', 'company': 'County of San Joaquin', 'job_link': 'https://www.linkedin.com/jobs/view/development-services-technician-at-county-of-san-joaquin-3769465536', 'job_location': 'Stockton, CA', 'similarity_score': 1.0000000000000002}\n{'job_suitability_rank': 2, 'query_sn': '009', 'company': 'County of Calaveras', 'job_link': 'https://www.linkedin.com/jobs/view/planner-iii-at-county-of-calaveras-3700430020', 'job_location': 'San Andreas, CA', 'similarity_score': 0.08983556097168952}\n{'job_suitability_rank': 3, 'query_sn': '009', 'company': 'RTM Engineering Consultants', 'job_link': 'https://www.linkedin.com/jobs/view/electrical-engineer-at-rtm-engineering-consultants-3669230001', 'job_location': 'San Diego, CA', 'similarity_score': 0.08952304129539689}\n{'job_suitability_rank': 4, 'query_sn': '009', 'company': 'Merced County', 'job_link': 'https://www.linkedin.com/jobs/view/building-inspector-i-ii-at-merced-county-3803413040', 'job_location': 'Merced, CA', 'similarity_score': 0.0871200422487905}\n{'job_suitability_rank': 5, 'query_sn': '009', 'company': 'M/I Homes, Inc.', 'job_link': 'https://www.linkedin.com/jobs/view/construction-manager-at-m-i-homes-inc-3755121888', 'job_location': 'Fort Myers, FL', 'similarity_score': 0.08648352818814281}\n{'job_suitability_rank': 1, 'query_sn': '010', 'company': 'Alfasigma USA, Inc.', 'job_link': 'https://www.linkedin.com/jobs/view/regional-sales-manager-mid-atlantic-at-alfasigma-usa-inc-3806588517', 'job_location': 'Charlotte, NC', 'similarity_score': 0.9999999999999998}\n{'job_suitability_rank': 2, 'query_sn': '010', 'company': 'Jobot', 'job_link': 'https://www.linkedin.com/jobs/view/territory-manager-at-jobot-3805148755', 'job_location': 'Charlotte, NC', 'similarity_score': 0.16113636534612527}\n{'job_suitability_rank': 3, 'query_sn': '010', 'company': 'Atrium Health', 'job_link': 'https://www.linkedin.com/jobs/view/assistant-vice-president-transplant-at-atrium-health-3745432228', 'job_location': 'Charlotte, NC', 'similarity_score': 0.12664638649498985}\n{'job_suitability_rank': 4, 'query_sn': '010', 'company': 'Community Choice Financial Family of Brands', 'job_link': 'https://www.linkedin.com/jobs/view/store-manager-at-community-choice-financial-family-of-brands-3797850347', 'job_location': 'Fort Mill, SC', 'similarity_score': 0.1179900810061931}\n{'job_suitability_rank': 5, 'query_sn': '010', 'company': 'Aimbridge Hospitality', 'job_link': 'https://www.linkedin.com/jobs/view/director-of-sales-marketing-at-aimbridge-hospitality-3763398286', 'job_location': 'Charlotte, NC', 'similarity_score': 0.11681510182335585}\n"
     ]
    }
   ],
   "source": [
    "from pyspark.sql.functions import row_number\n",
    "from pyspark.sql.window import Window\n",
    "\n",
    "# Sử dụng bí danh khi join để phân biệt cột\n",
    "df_queries_alias = df_queries.alias(\"queries\")\n",
    "job_posts_alias = spark.table(\"job_posts\").alias(\"posts\")\n",
    "\n",
    "# Join df_queries với job_posts dựa trên các tiêu chí\n",
    "df_combined = df_queries_alias.join(\n",
    "    job_posts_alias,\n",
    "    (df_queries_alias.search_city== job_posts_alias.search_city) &\n",
    "    (df_queries_alias.search_country == job_posts_alias.search_country) &\n",
    "    (df_queries_alias.job_level == job_posts_alias.job_level) &\n",
    "    (df_queries_alias.job_type == job_posts_alias.job_type),\n",
    "    how=\"inner\"\n",
    ")\n",
    "\n",
    "# Đổi tên cột để tránh xung đột và chỉ chọn các cột cần thiết\n",
    "df_combined = df_combined.select(\n",
    "    col(\"queries.sn\").alias(\"query_sn\"),\n",
    "    col(\"posts.job_link\"),\n",
    "    col(\"posts.company\"),\n",
    "    col(\"posts.job_location\"),\n",
    "    col(\"posts.skills_tfidf\"),\n",
    "    col(\"queries.skills_tfidf\").alias(\"query_skills_tfidf\")\n",
    ")\n",
    "\n",
    "# Kiểm tra dữ liệu trước khi áp dụng UDF\n",
    "df_combined = df_combined.filter(\n",
    "    col(\"skills_tfidf\").isNotNull() & col(\"query_skills_tfidf\").isNotNull()\n",
    ")\n",
    "\n",
    "# Tính similarity_score\n",
    "df_combined = df_combined.withColumn(\n",
    "    \"similarity_score\",\n",
    "    cosine_similarity_udf(col(\"skills_tfidf\"), col(\"query_skills_tfidf\"))\n",
    ")\n",
    "\n",
    "# Sắp xếp và lấy top 5 công việc cho mỗi ứng viên\n",
    "window_spec = Window.partitionBy(\"query_sn\").orderBy(col(\"similarity_score\").desc())\n",
    "df_combined = df_combined.withColumn(\n",
    "    \"job_suitability_rank\",\n",
    "    row_number().over(window_spec)\n",
    ").filter(col(\"job_suitability_rank\") <= 5)\n",
    "\n",
    "# Chọn các cột yêu cầu để tạo kết quả cuối\n",
    "query_skills_best_jobs = df_combined.select(\n",
    "    \"job_suitability_rank\",\n",
    "    \"query_sn\",\n",
    "    \"company\",\n",
    "    \"job_link\",\n",
    "    \"job_location\",\n",
    "    \"similarity_score\"\n",
    ").collect()\n",
    "\n",
    "# Đặt ngưỡng similarity_score\n",
    "threshold = 0.15\n",
    "predictions = []\n",
    "for row in query_skills_best_jobs:\n",
    "    predicted_relevant = 1 if row[\"similarity_score\"] >= threshold else 0\n",
    "    predictions.append({\n",
    "        \"candidate_id\": row[\"query_sn\"],\n",
    "        \"job_link\": row[\"job_link\"],\n",
    "        \"predicted_relevant\": predicted_relevant\n",
    "    })\n",
    "\n",
    "# In kết quả với các trường yêu cầu\n",
    "for job in query_skills_best_jobs:\n",
    "    print({\n",
    "        \"job_suitability_rank\": job[\"job_suitability_rank\"],\n",
    "        \"query_sn\": job[\"query_sn\"],\n",
    "        \"company\": job[\"company\"],\n",
    "        \"job_link\": job[\"job_link\"],\n",
    "        \"job_location\": job[\"job_location\"],\n",
    "        \"similarity_score\": job[\"similarity_score\"]\n",
    "    })"
   ]
  },
  {
   "cell_type": "markdown",
   "metadata": {
    "application/vnd.databricks.v1+cell": {
     "cellMetadata": {},
     "inputWidgets": {},
     "nuid": "26483ab9-d528-4ed9-9c7f-5a67c57cd755",
     "showTitle": false,
     "tableResultSettingsMap": {},
     "title": ""
    }
   },
   "source": [
    "6-Lưu kết quả và Sử dụng Ground Truth"
   ]
  },
  {
   "cell_type": "code",
   "execution_count": 0,
   "metadata": {
    "application/vnd.databricks.v1+cell": {
     "cellMetadata": {
      "byteLimit": 2048000,
      "rowLimit": 10000
     },
     "inputWidgets": {},
     "nuid": "d911a55a-92bd-445d-a634-931f9327a7e1",
     "showTitle": false,
     "tableResultSettingsMap": {},
     "title": ""
    }
   },
   "outputs": [
    {
     "output_type": "stream",
     "name": "stdout",
     "output_type": "stream",
     "text": [
      "Schema của Delta Table sau khi lưu:\nroot\n |-- job_suitability_rank: integer (nullable = true)\n |-- query_sn: string (nullable = true)\n |-- company: string (nullable = true)\n |-- job_link: string (nullable = true)\n |-- job_location: string (nullable = true)\n |-- similarity_score: double (nullable = true)\n\nDữ liệu trong Delta Table:\n+--------------------+--------+--------------------+--------------------+--------------------+-------------------+\n|job_suitability_rank|query_sn|             company|            job_link|        job_location|   similarity_score|\n+--------------------+--------+--------------------+--------------------+--------------------+-------------------+\n|                   3|     003|          Bertucci's|https://www.linke...|      Brookfield, WI|0.14662195167403572|\n|                   4|     003|    Earl Enterprises|https://www.linke...|      Brookfield, WI| 0.1412224158312091|\n|                   5|     003|Maggiano's Little...|https://www.linke...|       Milwaukee, WI|0.13826915112079338|\n|                   1|     004|Shared Health-Soi...|https://ca.linked...|Winnipeg, Manitob...| 0.6227528616809993|\n|                   2|     004|   Bird Construction|https://ca.linked...|Winnipeg, Manitob...|0.14062922621939664|\n|                   3|     004|Colliers Project ...|https://ca.linked...|Winnipeg, Manitob...|0.12418848140723406|\n|                   2|     002|       ClearanceJobs|https://www.linke...|       San Diego, CA|0.13876423693742826|\n|                   3|     002|      Exact Sciences|https://www.linke...|       San Diego, CA|0.09987112458285595|\n|                   4|     002|             Natilus|https://www.linke...|       San Diego, CA| 0.0779811570044034|\n|                   5|     002|        Leonardo DRS|https://www.linke...|       San Diego, CA|0.07511950360856548|\n|                   1|     003|  Goodwin Recruiting|https://www.linke...|      Brookfield, WI| 0.9880913353966563|\n|                   2|     003|The Union House, ...|https://www.linke...|       Milwaukee, WI|0.16801429254972455|\n|                   1|     001|   Trinity Health MI|https://www.linke...|   Norton Shores, MI|                1.0|\n|                   2|     001|      Trinity Health|https://www.linke...|   Norton Shores, MI| 0.5573762752845485|\n|                   3|     001|Hackley Community...|https://www.linke...|        Muskegon, MI|0.21822716116317176|\n|                   4|     001|Saint Joseph Merc...|https://www.linke...|        Muskegon, MI|0.18632111253209027|\n|                   5|     001|Saint Joseph Merc...|https://www.linke...|   Norton Shores, MI|0.16853647196402996|\n|                   1|     002|           QuantalRF|https://www.linke...|       San Diego, CA| 0.9999999999999998|\n|                   4|     004|DMC Recruitment G...|https://ca.linked...|Victoria, Manitob...|0.11056886370728972|\n|                   5|     004|                BGIS|https://ca.linked...|Winnipeg, Manitob...|0.09652784065799977|\n+--------------------+--------+--------------------+--------------------+--------------------+-------------------+\nonly showing top 20 rows\n\nDữ liệu đã được lưu thành công vào /FileStore/delta/output_job_skills_match\nThông tin để tạo ground truth:\nCandidate 010:\n  Skills: Sales, Leadership, Mentoring, Communication, Coaching, Strategic Planning, Execution, Business Development, Team Management, Customer Relationship Management, Product Knowledge, Compliance, Regulatory, Pharmaceutical Sales, Management, Strategic Thinking, Decision Making, Talent Management, Excel, Word, Outlook, Database Applications, Bachelor's Degree, Business, Marketing, Life Sciences, CRM, Salesforce\n---\nCandidate 005:\n  Skills: Control Systems Integration, PLC Programming, HMI Programming, Operator Interface Terminal Programming, Control System Software Installation, Lead Programming, Automation Staff Supervision, Mentorship, System Startup, Client Relationship Development, Selection and Specification of PLCs and HMIs, Instrumentation, Schematic Development\n---\nCandidate 001:\n  Skills: Nursing, Bachelor of Science in Nursing, Masters Degree in Nursing, Care management experience, Clinical experience in nursing, Licensure to practice nursing in Michigan, Population management, Selfmanagement, Education, Oversight of registries, Patient education, Patient selfmanagement, Patient care coordination, Chronic condition management\n---\nCandidate 006:\n  Skills: Cashier, Stocker, Lead capacity, Planograms, Customer service, Unloading trucks, Receiving, Opening cartons, Unpacking cartons and totes, Stocking merchandise, Rotating merchandise, Facing merchandise, Building merchandise displays, Restock merchandise\n---\nCandidate 003:\n  Skills: Chef de Cuisine, Executive Sous Chef, Hospitality, Culinary, Food and Beverage, Menu Development, Menu Engineering, Food Preparation, Sanitation, Food and Labor Cost Control, Multitasking, Time Management, ServSafe Certification, High School Diploma, Culinary Schooling, Apprenticeship, Work Experience\n---\nCandidate 008:\n  Skills: English (language), CV (document), Europe (location), River Thames (location), Greenwich Peninsula (location)\n---\nCandidate 007:\n  Skills: Microsoft Office Suite, UML, Flow Charting Software, Change Control/Defect Tracking Software, Project Management Methodologies, Design Tools, Bachelor's Degree in Computer Science, Understanding of SOA (Service Oriented Architecture), ASP.NET, SQL, XML, Design Patterns, Researching, Planning, Recommending Software and Systems Solutions\n---\nCandidate 009:\n  Skills: Public relations, Planning and zoning, Building codes, Land use regulations, Surveying, Geometry, Mathematics, AutoCAD\n---\nCandidate 002:\n  Skills: RF power amplifier design, Analogue circuit design, OFDM/OFDMA 802.11 4G 5G, Cadence schematic capture layout and simulation tools, EM simulations, EMX RFPro/Momentum HFSS,Wireless communications, MATLAB, Python, Data analysis\n---\nCandidate 004:\n  Skills: AUTOCAD, MS Project, Building Code Compliance, Construction methods, Sustainability design concepts, Barrierfree access, Environmental risks, Engineering, Project management, Construction management, Medical gases, Plumbing, Steam\n---\nJob: Senior Analyst (Bangkok Based, relocation provided)\n  Link: https://www.linkedin.com/jobs/view/senior-analyst-bangkok-based-relocation-provided-at-agoda-3748492368\n  Skills: Data analysis, Data mining, Data science, Data representation, Analytics, Python (programming language), SQL, R (programming language), Tableau, Analytical skills, Data visualization, Databases, Business analysis, Business intelligence (BI), Microsoft SQL server, Exposure to one or more data analysis packages or databases, Experience in digital marketing, Academic research experience\n---\nJob: Volunteer: Executive Director\n  Link: https://www.linkedin.com/jobs/view/volunteer-executive-director-at-black-building-leadership-and-community-knowledge-3803987946\n  Skills: Nonprofit management, Budget preparation, Budget analysis, Decisionmaking, Reporting, Planning, Delegating, Program development, Task facilitation, Fundraising strategies, Donor relations, Collaboration, Motivation, Communication, Public speaking, Administration, Policies, Procedures\n---\nJob: Registered Nurse - RN Care Manager\n  Link: https://www.linkedin.com/jobs/view/registered-nurse-rn-care-manager-at-saint-joseph-mercy-health-system-3803344133\n  Skills: RN, Nursing, Masters in Nursing, Michigan Nursing License, Care Management, Clinical Experience, Complex Care, Moderate Care, Population Management, Patient Education, Patient Assessment, Patient Monitoring, Patient Evaluation, Patient Care, Chronic Conditions, Hospitalization Prevention, Emergency Room Prevention, Diversity and Inclusion\n---\nJob: Lead Autopilot / GNC Engineer\n  Link: https://www.linkedin.com/jobs/view/lead-autopilot-gnc-engineer-at-natilus-3638525392\n  Skills: Flight Controls Engineering, Requirements Gathering, Source Flight Sensors, Flight Control Algorithms, Flight Simulation Programs, Testing, C++, Matlab, Simulink, Verbal Communication, Written Communication, MS or PhD in Aerospace Engineering, Aerodynamics, Flight Dynamics, Manned Aircraft, Product Shipping, SelfDirected Work, FastPaced Environment, Attention to Detail, Physical Modeling, Control Law Development, Software Development\n---\nJob: Electrical Engineer\n  Link: https://www.linkedin.com/jobs/view/electrical-engineer-at-rtm-engineering-consultants-3669230001\n  Skills: Electrical engineering, Project management, AutoCAD, Revit, Construction drawings, Engineering drafting standards, Building codes, Electrical engineering standards, QA/QC process, Project coordination, Engineering project specifications, Billing, EIT, PE, Teamoriented, Selfstarter, Multitasking\n---\nJob: LEAD SALES ASSOCIATE-PT\n  Link: https://www.linkedin.com/jobs/view/lead-sales-associate-pt-at-dollar-general-3580065885\n  Skills: Cashier, Stocker, Lead capacity, Planograms, Customer service, Unloading trucks, Receiving, Opening cartons, Unpacking cartons and totes, Stocking merchandise, Rotating merchandise, Facing merchandise, Building merchandise displays, Restock merchandise, Order zones, Drop shipment categories, Planogram implementation, Planogram maintenance, Customer assistance, Bailing cardboard, Taking out trash, Dusting and mopping store floors, Cleaning restroom, Cleaning stockroom, Greeting customers, Register countertop maintenance, Register countertop planograms, Cash register operation, Flatbed scanner operation, Itemizing purchases, Totaling purchases, Bagging merchandise, Collecting payment, Making change, Cleaning front end of store, Setting up sidewalk displays, Maintaining a clean and organized store, Facilitating a safe and secure working environment, Facilitating a safe and secure shopping environment, Providing superior customer service leadership, Following company policies, Following company procedures, Standard Operating Procedures manual, Employee Handbook, Company communications, Opening and closing the store, Authorizing refunds, Signing for refunds, Authorizing overrides, Signing for overrides, Counting register, Making bank deposits, Maintaining strict cashier accountability, Maintaining key control, Adhering to company security practices, Adhering to cash control procedures, Monitoring cash levels, Making appropriate drawer pulls, Monitoring cameras, Completing paperwork, Completing documentation, Following guidelines, Meeting deadlines, Mathematical calculations, Addition, Subtraction, Multiplication, Division, Percentages, Cash handling procedures, Cashier accountability, Deposit control, IBM cash register functions, Cash control policies, Facility control policies, Safety control policies, Safety practices, Planogram guidance, Merchandise presentation guidance, High school diploma, Supervisory experience, Related experience, Related training, Equal opportunity employer\n---\nJob: Chargé de projet sénior\n  Link: https://ca.linkedin.com/jobs/view/charg%C3%A9-de-projet-s%C3%A9nior-at-bgis-3785854187\n  Skills: Project Management, Architecture Technology, Construction Technology, Engineering Technology, MS Office, MS Project, MS Excel, MS Outlook, LEED Certification\n---\nJob: Bravo-Host Bravo- Brookfield\n  Link: https://www.linkedin.com/jobs/view/bravo-host-bravo-brookfield-at-earl-enterprises-3670725900\n  Skills: Customer service, Restaurant operations, Food preparation, Restaurant management, Hospitality, Teamwork, Communication, Time management, Problemsolving, Attention to detail, Food safety, Sanitation, Italian cuisine\n---\nJob: RRPA Diary Manager - London Approved Premises (Ref: 76835)\n  Link: https://uk.linkedin.com/jobs/view/rrpa-diary-manager-london-approved-premises-ref-76835-at-hm-prison-and-probation-service-3772076193\n  Skills: NVQ Level 2/GCSEs, IT Skills, English Language, Strong Communication Skills, Influence and Persuasion Skills, Time Management, Data Analysis, Report Writing, Diary Management and Coordination, Minute Taking, Event Planning and Coordination, Business Travel and Accommodation Arrangement\n---\nJob: Planner III\n  Link: https://www.linkedin.com/jobs/view/planner-iii-at-county-of-calaveras-3700430020\n  Skills: Planning, Land Use, Zoning, Surveying, Environmental Permitting, Urban/Regional Planning, Transportation Planning, Public Administration, Geography, Architecture, Environmental Sciences, Landscape Architecture, GIS, Research, Data Analysis, Map Interpretation, Report Writing, Public Speaking, Teamwork, Supervision, ProblemSolving, Conflict Resolution, DecisionMaking, Critical Thinking, Analytical Skills, Written Communication, Verbal Communication, Interpersonal Skills, Leadership, Microsoft Office Suite, AutoCAD, ArcGIS, Adobe Creative Suite\n---\nJob: Project Manager\n  Link: https://ca.linkedin.com/jobs/view/project-manager-at-colliers-project-leaders-canada-3767684577\n  Skills: Project Management, Engineering, Architecture, Construction Management, Primavera P6, MS Project, Word, Excel, Power generation, Backup power, Utility generating equipment, Battery backup, Fiscal year project planning, Fiscal year cycles, PMP accreditation, Detail orientation, Organizational skills, Prioritization, Communication skills, Presentation skills, Technical leadership, Business leadership, Client relationship management, Contractual challenges, Technical challenges\n---\nJob: Assistant Vice President - Transplant\n  Link: https://www.linkedin.com/jobs/view/assistant-vice-president-transplant-at-atrium-health-3745432228\n  Skills: Leadership, Management, Healthcare administration, Transplantation, Clinical operations, Budget management, Financial analysis, Strategic planning, Business development, Marketing, Patient care, Quality assurance, Regulatory compliance, Human resources, Talent management, Team building, Policy development, Procedure development, Data analysis, Communication, Problemsolving, Critical thinking, Decisionmaking, Teamwork, Collaboration, Attention to detail, Multitasking, Time management, Microsoft Office Suite, Healthcare software, Electronic medical records (EMR), Medical terminology, Patient confidentiality, HIPAA compliance, CMS regulations, UNOS regulations, Medicare Cost Report, Healthcare finance, Costbased reimbursement\n---\nJob: Senior Principal Electro Optical Engineer\n  Link: https://www.linkedin.com/jobs/view/senior-principal-electro-optical-engineer-at-leonardo-drs-3793889578\n  Skills: ElectroOptical Systems, Laser Technology, Optical Metrology, FPGAs, System Design, Semiconductor Lasers, Solidworks, Zemax, Matlab, Detector Sensitivity, SignaltoNoise Ratio, Optical Design/Modelling, Optical Components, Detector & Imager Signal/Image Processing, Optics and Lasers, DoD Security Clearance, Engineering Degree (10+ years experience)\n---\nJob: Retail Associate (Part-Time) - Avon, IN\n  Link: https://www.linkedin.com/jobs/view/retail-associate-part-time-avon-in-at-goodwill-of-central-southern-indiana-3796424444\n  Skills: Cashier, Textiles Producer, Wares Producer, Donation Door Attendant, eCommerce Producer, eBooks Producer, Rack and Cart Runner, Team work, Customer Focus, Ethical, Attention to Detail, Time Management, Communication Skills, Mathematical Aptitude, Critical Thinking, Physical Labor, Computer Navigation, Basic Internet Usage\n---\nJob: Development Services Technician\n  Link: https://www.linkedin.com/jobs/view/development-services-technician-at-county-of-san-joaquin-3769465536\n  Skills: Public relations, Planning and zoning, Building codes, Land use regulations, Surveying, Geometry, Mathematics, AutoCAD\n---\nJob: Purchasing and Receiving Manager\n  Link: https://www.linkedin.com/jobs/view/purchasing-and-receiving-manager-at-davidson-hospitality-group-3777074000\n  Skills: Purchasing, Receiving, Supply Chain Management, Procurement Strategies, Supplier Relationships, Contract Negotiation, Inventory Management, Market Trends Analysis, CostSaving Initiatives, Leadership, Teamwork, Communication, Interpersonal Skills, Procurement Software, Inventory Control Systems, DataDriven Decision Making, Organizational Skills, Multitasking Abilities, Bachelor's in Business Administration, Bachelor's in Supply Chain Management\n---\nJob: Production Team Leaders (Days)\n  Link: https://uk.linkedin.com/jobs/view/production-team-leaders-days-at-energy-jobline-3803177048\n  Skills: Team Leadership, Labor Cost Management, Waste Management, Production Management, Problem Solving, Teamwork, Communication, English Language, Numeracy, Wagestream, Paid Parking, Staff Events, Staff Restaurant, Career Development, Food Industry Experience\n---\nJob: Property Manager\n  Link: https://www.linkedin.com/jobs/view/property-manager-at-sudler-property-management-3806867162\n  Skills: Illinois Community Association Manager License, Customer Service, Property Management, Supervisory/Management Experience, DetailOriented, Communication Skills, Microsoft Office Suite, Excel, Budgets, Capital Projects Oversight, Association Administration, Inventory Management, Service Requests Resolution\n---\nJob: Principal RFIC Power Amplifier Design Engineer\n  Link: https://www.linkedin.com/jobs/view/principal-rfic-power-amplifier-design-engineer-at-quantalrf-3787746484\n  Skills: RF power amplifier design, Analogue circuit design, CMOS and/or Bipolar Silicon technologies, Wireless communications, OFDM/OFDMA 802.11 4G 5G, Cadence schematic capture layout and simulation tools, EM simulations, EMX RFPro/Momentum HFSS, Power amplifiers for cellular or WiFi applications, PA linearization techniques, Digital predistortion, Envelope tracking, Tunable frontend components, Impedance tuning, IC characterization and debugging, Data analysis, MATLAB, Python\n---\nJob: Property Manager\n  Link: https://uk.linkedin.com/jobs/view/property-manager-at-knight-dragon-ltd-3805009895\n  Skills: English (language), CV (document), Europe (location), River Thames (location), Greenwich Peninsula (location)\n---\nJob: Store Manager\n  Link: https://www.linkedin.com/jobs/view/store-manager-at-community-choice-financial-family-of-brands-3797850347\n  Skills: Store Management, Customer Relationship Management, Business Development, Team Management, Performance Analysis, Compliance, Point of Sale, Microsoft Office, Verbal and Written Communication, Driver's License, Criminal Background Check, Ability to work in a fastpaced environment, Interpersonal skills, Fulltime work schedule, High School Diploma, Supervisory and Management Experience, Leadership, Retail Sales or Financial Industry Experience, Bilingual English/Spanish\n---\nJob: Director of Sales Marketing\n  Link: https://www.linkedin.com/jobs/view/director-of-sales-marketing-at-aimbridge-hospitality-3763398286\n  Skills: Sales, Marketing, Hotel Management, Microsoft Office, General Computer Knowledge, Budgeting, Financial Analysis, Contract Negotiation, Team Management, Sales Forecasting, Hospitality, Customer Service, Communication, Leadership, Strategic Planning, Problem Solving, Analytical Skills, Organization, Presentation Skills, Diversity and Inclusion\n---\nJob: Construction Manager\n  Link: https://www.linkedin.com/jobs/view/construction-manager-at-m-i-homes-inc-3755121888\n  Skills: Project Management, Construction Management, Budgeting, Scheduling, Customer Service, Communication, BuildPro, SupplyPro, Blueprints, Building Codes, Regulations, Safety Compliance, Driver's License, Environmental Conditions, Health and Safety Risks\n---\nJob: Senior Associate, Tax - Product Analyst\n  Link: https://www.linkedin.com/jobs/view/senior-associate-tax-product-analyst-at-kpmg-us-3764869128\n  Skills: Microsoft Office Suite, UML, Flow Charting Software, Change Control/Defect Tracking Software, Project Management Methodologies, Design Tools, Bachelor's Degree in Computer Science, Understanding of SOA (Service Oriented Architecture), ASP.NET, SQL, XML, Design Patterns, Researching, Planning, Recommending Software and Systems Solutions, Skilled in Organizing Information, Partnership/Corporate Tax Experience, Reviewing Meeting Notes, Specifications, Interviewing Clients Architects and Developers\n---\nJob: Digital Signal Process Engineer, Sr - 23-033 with Security Clearance\n  Link: https://www.linkedin.com/jobs/view/digital-signal-process-engineer-sr-23-033-with-security-clearance-at-clearancejobs-3753472438\n  Skills: Signal processing, Data analysis, Algorithm development, Noise reduction, Signal detection, Characterization, Java, Python, MATLAB, Embedded signal processing, Problem solving, Communication, Subspace techniques, Principal components analysis, SVD, Timefrequency analysis, Digital filtering, Spectral estimation, Detection and estimation theory, Linear algebra, Stochastic processes, Secret security clearance\n---\nJob: Restaurant Manager\n  Link: https://www.linkedin.com/jobs/view/restaurant-manager-at-maggiano-s-little-italy-3586346752\n  Skills: Management, Customer Service, Communication, Leadership, Problem Solving, Teamwork, Food Safety, Training, Inventory Control, Quality Assurance, Health and Safety Regulations, Food Preparation, Menu Development, Guest Relations, Scheduling, Staff Management, Budgeting, Marketing, Sales\n---\nJob: Territory Manager\n  Link: https://www.linkedin.com/jobs/view/territory-manager-at-jobot-3805148755\n  Skills: Territory Management, Sales Planning, Business Development, Customer Relationship Management, Sales Reporting, Marketing, Negotiation, Sales Presentations, Customer Service, Time Management, Project Management, Strategic Planning, Problem Solving, Communication, Interpersonal Skills, Motivation, Initiative, Travel\n---\nJob: Sous Chef\n  Link: https://www.linkedin.com/jobs/view/sous-chef-at-the-union-house-fine-dining-3787838849\n  Skills: Sous Chef, Culinary, Kitchen Management, Cooking, Knife Skills, Classical Techniques, Food Preparation, Menu Execution, Food Safety, Sanitation, Inventory Management, Order Management, Communication, Organization, Leadership, Culinary Arts, Hospitality\n---\nJob: Registered Nurse (RN)\n  Link: https://www.linkedin.com/jobs/view/registered-nurse-rn-at-hackley-community-care-3777279642\n  Skills: Registered Nurse, Nursing, Chronic conditions, Patient education, Selfmanagement, Population management, Coordination of care, CPR/BLS certification, Health risk assessments, Evidencebased guidelines, Patientcentered care, Compassion, Teamwork, Communication skills, Organizational skills, Analytical skills, Strong work ethic, Ability to work independently and as part of a team, Passion for working with the underserved population, Commitment to providing quality patient care\n---\nJob: PACS/ CPACS/ Hemo Implementation Specialist\n  Link: https://www.linkedin.com/jobs/view/pacs-cpacs-hemo-implementation-specialist-at-technogen-inc-3800249519\n  Skills: PACS, CPACS, Hemo, Radiology Medical Imaging, Cardiology Medical Imaging, Change Health HMI, Change Health CPACS, HL7, DICOM, SQL, Epic, MEDITECH, RIS, ServiceNow ITSM, Virtualization, Networks, Client Hardware/ Software, VPN, NAT\n---\nJob: Cable Transport & Installation Manager - Japan\n  Link: https://uk.linkedin.com/jobs/view/cable-transport-installation-manager-japan-at-rwe-3789009132\n  Skills: Mechanical Engineering, Marine Logistics, Renewable Energy, Offshore Wind Farm Projects, Transport and Installation Package Management, Construction Logistics, Offshore Construction Contracts, Vessel Chartering, Team Player, Problem Solver, Communication Skills, Interpersonal Skills, Willingness to Travel, English Language, Japanese Language, Offshore and Height Work Experience, Japanese Suppliers, Authorities Stakeholder Experience\n---\nJob: Senior Bioinformatics Scientist\n  Link: https://www.linkedin.com/jobs/view/senior-bioinformatics-scientist-at-exact-sciences-3792998507\n  Skills: Bioinformatics, R programming, JMP, Python, Java, AWS, SAS, Matlab, C++, Molecular biology, Genomics, Biochemistry, Linux, HPC, CRISPR, Nextgeneration sequencing, Product development, Medical device, IVD, Biotech, Life science, Pharmaceutical, Project management, Problemsolving, Communication, Data analysis, Team leadership, Troubleshooting, Laboratory experience\n---\nJob: Registered Nurse Emergency Department-7a-7:30p 24hrs per week\n  Link: https://www.linkedin.com/jobs/view/registered-nurse-emergency-department-7a-7-30p-24hrs-per-week-at-saint-joseph-mercy-health-system-3784380723\n  Skills: Nursing, Associates Degree in Nursing, Bachelor of Science in Nursing, Registered Nurse license in Michigan, Microsoft Office Suite\n---\nJob: AE&I Lead\n  Link: https://www.linkedin.com/jobs/view/ae-i-lead-at-cargill-3801439972\n  Skills: Troubleshooting, PLC programming, Electrical control package installation, Networking system troubleshooting/installation/repair, Production equipment repair/troubleshooting, Reading electrical hydraulic pneumatic schematics, AE&I Technicians assistance/coverage, Printer setups and editing for code dating products, Scale troubleshooting/calibration, AE&I Technicians OTJ training coordination, Vacation and callin coverage, Team daily activities direction, Radio calls direction communication with other departments, Scheduled work planning assistance, Maintenance team representation on process safety and FSQR teams, Training conduction/material development participation, Daily work documentation (paper and maintenance management system), MRO system utilization, Cleanliness and housekeeping, Food safety and quality assurance, Parts inventory utilization for equipment repair and usage documentation, Problem identification and suggestion for operational process improvement, AutoCAD Electrical, Fluid Power Fundamentals course completion, Fundamentals of Mechanical Systems course completion, Fluid Power Systems course completion, Industrial Principles course completion, Concepts of Electronics 1 course completion, Fluid Power Systems course completion, Control Systems course completion, Introduction to Programmable Controls course completion, Concepts of Electronics 2 course completion, Control Logix course completion, Advanced Control Systems course completion, Industrial maintenance experience, Twoyear maintenancerelated degree, Leadership experience\n---\nJob: AE&I Technician\n  Link: https://www.linkedin.com/jobs/view/ae-i-technician-at-cargill-3745037053\n  Skills: Food science, PLC programming, Rockwell automation programming, Microsoft Office Suite, Computer networks and servers, Continuous improvement, Reliability excellence, Quality maintenance planning, Hazard mitigation, Risk management, Vendor management, Contract management, Project management, Troubleshooting, Problem solving, Communication, Teamwork, Attention to detail, Safety consciousness, Bachelor's degree\n---\nJob: Retail Associate (Part-Time) - Crawfordsville, IN\n  Link: https://www.linkedin.com/jobs/view/retail-associate-part-time-crawfordsville-in-at-goodwill-of-central-southern-indiana-3796421574\n  Skills: Cashier, Customer service, Retail, eCommerce, Textiles, Wares, Donation door attendant, Rack and cart runner, Technical knowledge, Computer skills, Basic computer navigation, Internet navigation, Communication skills, Mathematical aptitude, Critical thinking, Reasonable accommodations for disabilities, Physical work, Lifting heavy objects, Exposure to moderate noise and temperature variations\n---\nJob: General Practitioner\n  Link: https://uk.linkedin.com/jobs/view/general-practitioner-at-jupiter-recruitment-corporation-ltd-3804404066\n  Skills: General Practitioner, GMC Registration, MRCGP, Clinical Standards, Medical Practice, GP Vocational, Medical Indemnity, English Language, EvidenceBased Practice, Primary Care Trust, Pension, Clinical Training, Learning and Development, Workshops, ELearning, Flexible Working\n---\nJob: Senior Project Manager\n  Link: https://ca.linkedin.com/jobs/view/senior-project-manager-at-dmc-recruitment-group-3801585855\n  Skills: Project Management, Architectural Design, Master Planning, Canadian Architectural Industry Standards, Building Technology, Wood Frame Construction, Steel Construction, Concrete Construction, AutoCAD, Sketchup, Revit, BC Building Code Part 3, BC Building Code Part 9, ASHRAE 90.1, NECB, Sustainable Design Principles, Zoning Regulations, Detailing, Constructability, Client Presentations, Design Recommendations, Stakeholder Coordination, English Communication, Problem Solving, Resourcefulness, Mentoring, WA Guiding Principles, Schematic Design, Design Development, CrossDisciplinary Collaboration, Building Code Compliance, Design Execution, Design Presentation, Project Success, Architectural Excellence, Professional Growth, Competitive Compensation, Supportive Work Culture, Creativity, Flexibility\n---\nJob: Maintenance Technician III\n  Link: https://www.linkedin.com/jobs/view/maintenance-technician-iii-at-cargill-3807747882\n  Skills: Electrical systems troubleshooting, PLC programming, Printer setups and editing, Networking systems installation/troubleshooting/repair, Hydraulic and pneumatic equipment repair/troubleshooting, Production equipment repair/troubleshooting, Scales troubleshooting/calibration, Electrical hydraulic pneumatic schematics reading, MRO system utilization, Cleanliness and housekeeping, Food safety and quality ensuring, Work documentation, Parts inventory utilization, Problem identification and operational process improvement suggestions, PIT operation, Hand and power tools knowledge, HAZMAT membership participation, Operator driver's license, Industrial maintenance experience, Twoyear degree in maintenance field, Powered industrial truck (PIT) experience, Cargill experience, Work history in the last 12 months\n---\nJob: Building Inspector I/II\n  Link: https://www.linkedin.com/jobs/view/building-inspector-i-ii-at-merced-county-3803413040\n  Skills: Building codes, Building inspection, Building materials, Building plans, Building regulations, Carpentry, Construction, Construction documents, Construction methods, Construction safety, Electrical, Engineering, Fire codes, Fire prevention, Fire safety, HVAC, Inspection, International Code Council, Laws and ordinances, Masonry, Mathematics, Mechanical, Plumbing, Quality control, Safety standards, Structural engineering, Zoning\n---\nJob: Bravo-Host\n  Link: https://www.linkedin.com/jobs/view/bravo-host-at-bertucci-s-3670729205\n  Skills: Customer service, Restaurant operations, Food preparation, Sanitation, Communication, Teamwork\n---\nJob: Retail Associate (Part-Time) - West Washington St. Indianapolis\n  Link: https://www.linkedin.com/jobs/view/retail-associate-part-time-west-washington-st-indianapolis-at-goodwill-of-central-southern-indiana-3796424455\n  Skills: Customer service, Cashier, Retail operations, Sorting and tagging, eCommerce, Shipping and receiving, Inventory management, Communication, Teamwork, Time management, Critical thinking, Mathematical aptitude, Attention to detail, Dexterity, Strength, Stamina, Physical endurance, Basic computer skills, Internet navigation, Microsoft Office Suite, ERP systems, Warehouse management systems, Safety procedures, Confidentiality, Ethical behavior\n---\nJob: Engineering Project Coordinator\n  Link: https://ca.linkedin.com/jobs/view/engineering-project-coordinator-at-shared-health-soins-communs-3767503688\n  Skills: AUTOCAD, MS Project, Building Code Compliance, Construction methods, Sustainability design concepts, Barrierfree access, Environmental risks, Engineering, Project management, Construction management, Medical gases, Plumbing, Steam, HVAC, Building controls, Fire suppression, Power distribution, Nurse call, Access controls, Building envelope systems, Roofing, Glazing, Door systems, Business management, Business ethics, Negotiation, Planning, Organizing, Forecasting, Collaboration, Communication\n---\nJob: Registered Nurse - RN Care Manager\n  Link: https://www.linkedin.com/jobs/view/registered-nurse-rn-care-manager-at-trinity-health-3799201324\n  Skills: Nursing, Care Management, Patient Education, SelfManagement, Population Management, Coordination, Registries, Health Status, Hospitalization, Emergency Room Visits, Accredited School of Nursing, Bachelor of Science in Nursing, Master's Degree in Nursing, Current Licensure to Practice Nursing in Michigan, Care Management Experience, Clinical Experience in Nursing, Diversity, Equity, Inclusion, Equal Opportunity Employer\n---\nJob: Chef de Cuisine\n  Link: https://www.linkedin.com/jobs/view/chef-de-cuisine-at-goodwin-recruiting-3805761853\n  Skills: Chef de Cuisine, Executive Sous Chef, Hospitality, Culinary, Food and Beverage, Menu Development, Menu Engineering, Food Preparation, Sanitation, Food and Labor Cost Control, Multitasking, Time Management, ServSafe Certification, High School Diploma, Culinary Schooling, Apprenticeship, Work Experience, Diversity and Inclusion\n---\nJob: Control Systems Integration Engineer\n  Link: https://www.linkedin.com/jobs/view/control-systems-integration-engineer-at-olsson-3793858841\n  Skills: Control Systems Integration, PLC programming, HMI programming, Operator Interface Terminal programming, Control system software installation, System integration projects, Instrumentation, Schematic development, Wiring diagrams, Control system sequences of operations, Windows Operating Systems, Ethernet networking, SCADA systems, Troubleshooting skills, Strong communication skills, Teamwork, Attention to detail, Engineering degree, Vocational degree, Technical or trade school certification, Leadership skills\n---\nJob: Control Systems Integration Engineer\n  Link: https://www.linkedin.com/jobs/view/control-systems-integration-engineer-at-olsson-3793857817\n  Skills: Control Systems Integration, PLC Programming, HMI Programming, Operator Interface Terminal Programming, Control System Software Installation, Lead Programming, Automation Staff Supervision, Mentorship, System Startup, Client Relationship Development, Selection and Specification of PLCs and HMIs, Instrumentation, Schematic Development, Wiring Diagrams, Windows Operating Systems, Ethernet Networking, SCADA Systems, Strong Communication Skills, Teamwork, Attention to Detail, Engineering Degree, Vocational Degree, Technical or Trade School Certification, 3+ Years of Control System Integration Experience, Passion for Mentoring, Handson Technical and Troubleshooting Skills, Familiarity with Windows Operating Systems, Ethernet Networking, SCADA Systems, Ability to Lead Others\n---\nJob: Senior Project Manager\n  Link: https://ca.linkedin.com/jobs/view/senior-project-manager-at-bird-construction-3800438330\n  Skills: Project Management, Construction Management, Civil Engineering, Design Build, Construction Management, IPD, 4D Scheduling, MS Office, MS Project, Viewpoint Project Management, Safety Management, Leadership, Problem Solving, Communication, Collaboration, Teamwork, Quality Control, Cost Control, Scheduling, Budgeting, Contract Management, Subcontractor Management, Financial Reporting, Project Execution\n---\nJob: Regional Sales Manager, Mid-Atlantic\n  Link: https://www.linkedin.com/jobs/view/regional-sales-manager-mid-atlantic-at-alfasigma-usa-inc-3806588517\n  Skills: Sales, Leadership, Mentoring, Communication, Coaching, Strategic Planning, Execution, Business Development, Team Management, Customer Relationship Management, Product Knowledge, Compliance, Regulatory, Pharmaceutical Sales, Management, Strategic Thinking, Decision Making, Talent Management, Excel, Word, Outlook, Database Applications, Bachelor's Degree, Business, Marketing, Life Sciences, CRM, Salesforce\n---\nJob: Registered Nurse - RN Care Manager\n  Link: https://www.linkedin.com/jobs/view/registered-nurse-rn-care-manager-at-trinity-health-mi-3803386312\n  Skills: Nursing, Bachelor of Science in Nursing, Masters Degree in Nursing, Care management experience, Clinical experience in nursing, Licensure to practice nursing in Michigan, Population management, Selfmanagement, Education, Oversight of registries, Patient education, Patient selfmanagement, Patient care coordination, Chronic condition management, Complex illness management, Hospitalization avoidance, Emergency room visit avoidance\n---\nGround Truth đã được lưu vào /FileStore/delta/ground_truth\nKết quả đánh giá mô hình:\nTrue Positives: 20\nFalse Positives: 1\nFalse Negatives: 1\nTrue Negatives: 28\nPrecision: 0.9524\nRecall: 0.9524\nF1-Score: 0.9524\n"
     ]
    }
   ],
   "source": [
    "# Bước 6: Lưu kết quả ra Delta Lake\n",
    "\n",
    "# Định nghĩa schema rõ ràng cho DataFrame\n",
    "output_schema = StructType([\n",
    "    StructField(\"job_suitability_rank\", IntegerType(), True),\n",
    "    StructField(\"query_sn\", StringType(), True),\n",
    "    StructField(\"company\", StringType(), True),\n",
    "    StructField(\"job_link\", StringType(), True),\n",
    "    StructField(\"job_location\", StringType(), True),\n",
    "    StructField(\"similarity_score\", DoubleType(), True)\n",
    "])\n",
    "\n",
    "# Tạo DataFrame với schema đã định nghĩa\n",
    "output_df = spark.createDataFrame(query_skills_best_jobs, schema=output_schema)\n",
    "\n",
    "# Xóa thư mục Delta Table cũ để đảm bảo schema được cập nhật\n",
    "output_file_path = \"/FileStore/delta/output_job_skills_match\"\n",
    "dbutils.fs.rm(output_file_path, recurse=True)\n",
    "\n",
    "# Lưu vào Delta Lake\n",
    "output_df.write.format(\"delta\").mode(\"overwrite\").save(output_file_path)\n",
    "\n",
    "# Kiểm tra schema sau khi lưu\n",
    "output_check = spark.read.format(\"delta\").load(output_file_path)\n",
    "print(\"Schema của Delta Table sau khi lưu:\")\n",
    "output_check.printSchema()\n",
    "\n",
    "# Hiển thị dữ liệu để xác nhận\n",
    "print(\"Dữ liệu trong Delta Table:\")\n",
    "output_check.show()\n",
    "\n",
    "print(f\"Dữ liệu đã được lưu thành công vào {output_file_path}\")\n",
    "\n",
    "\n",
    "# Bước 7: Đánh giá mô hình với Ground Truth\n",
    "# Thu thập tất cả các job_link và candidate_ids từ query_skills_best_jobs\n",
    "job_links = set(job[\"job_link\"] for job in query_skills_best_jobs)\n",
    "candidate_ids = set(job[\"query_sn\"] for job in query_skills_best_jobs)\n",
    "\n",
    "# In thông tin để hỗ trợ việc gán nhãn thủ công\n",
    "print(\"Thông tin để tạo ground truth:\")\n",
    "for candidate_id in candidate_ids:\n",
    "    candidate_info = spark.sql(f\"\"\"\n",
    "        SELECT job_skills FROM df_queries WHERE sn = '{candidate_id}'\n",
    "    \"\"\").collect()[0]\n",
    "    print(f\"Candidate {candidate_id}:\")\n",
    "    print(f\"  Skills: {candidate_info['job_skills']}\")\n",
    "    print(\"---\")\n",
    "\n",
    "for job_link in job_links:\n",
    "    job_info = spark.sql(f\"\"\"\n",
    "        SELECT job_title, job_skills FROM job_posts WHERE job_link = '{job_link}'\n",
    "    \"\"\").collect()[0]\n",
    "    print(f\"Job: {job_info['job_title']}\")\n",
    "    print(f\"  Link: {job_link}\")\n",
    "    print(f\"  Skills: {job_info['job_skills']}\")\n",
    "    print(\"---\")\n",
    "\n",
    "# Tạo ground truth thủ công dựa trên thông tin trên\n",
    "# Dựa trên kết quả và kỹ năng, mình gán nhãn is_relevant (1: phù hợp, 0: không phù hợp)\n",
    "ground_truth_data = [\n",
    "    # Candidate 001:\n",
    "    (\"001\", \"https://www.linkedin.com/jobs/view/registered-nurse-rn-care-manager-at-trinity-health-mi-3803386312\", 1),  # Phù hợp (Registered Nurse)\n",
    "    (\"001\", \"https://www.linkedin.com/jobs/view/registered-nurse-rn-care-manager-at-trinity-health-3799201324\", 1),\n",
    "    (\"001\", \"https://www.linkedin.com/jobs/view/registered-nurse-rn-at-hackley-community-care-3777279642\", 1),\n",
    "    (\"001\", \"https://www.linkedin.com/jobs/view/registered-nurse-emergency-department-7a-7-30p-24hrs-per-week-at-saint-joseph-mercy-health-system-3784380723\", 0),\n",
    "    (\"001\", \"https://www.linkedin.com/jobs/view/registered-nurse-rn-care-manager-at-saint-joseph-mercy-health-system-3803344133\", 1),\n",
    "\n",
    "    # Candidate 002:\n",
    "    (\"002\", \"https://www.linkedin.com/jobs/view/principal-rfic-power-amplifier-design-engineer-at-quantalrf-3787746484\", 1),\n",
    "    (\"002\", \"https://www.linkedin.com/jobs/view/digital-signal-process-engineer-sr-23-033-with-security-clearance-at-clearancejobs-3753472438\", 0),\n",
    "    (\"002\", \"https://www.linkedin.com/jobs/view/senior-bioinformatics-scientist-at-exact-sciences-3792998507\", 0),\n",
    "    (\"002\", \"https://www.linkedin.com/jobs/view/lead-autopilot-gnc-engineer-at-natilus-3638525392\", 0),\n",
    "    (\"002\", \"https://www.linkedin.com/jobs/view/senior-principal-electro-optical-engineer-at-leonardo-drs-3793889578\", 0),\n",
    "\n",
    "    # Candidate 003: Kỹ năng liên quan đến Teaching, Classroom Management\n",
    "    (\"003\", \"https://www.linkedin.com/jobs/view/chef-de-cuisine-at-goodwin-recruiting-3805761853\", 1), #Phù hợp (Chef)\n",
    "    (\"003\", \"https://www.linkedin.com/jobs/view/sous-chef-at-the-union-house-fine-dining-3787838849\", 1),\n",
    "    (\"003\", \"https://www.linkedin.com/jobs/view/bravo-host-at-bertucci-s-3670729205\", 0),\n",
    "    (\"003\", \"https://www.linkedin.com/jobs/view/bravo-host-bravo-brookfield-at-earl-enterprises-3670725900\", 0), \n",
    "    (\"003\", \"https://www.linkedin.com/jobs/view/restaurant-manager-at-maggiano-s-little-italy-3586346752\", 0),\n",
    "\n",
    "    # Candidate 004: Project Management, Engineering Coordination\n",
    "    (\"004\", \"https://ca.linkedin.com/jobs/view/engineering-project-coordinator-at-shared-health-soins-communs-3767503688\", 1),  # Phù hợp\n",
    "    (\"004\", \"https://ca.linkedin.com/jobs/view/senior-project-manager-at-bird-construction-3800438330\", 0),\n",
    "    (\"004\", \"https://ca.linkedin.com/jobs/view/project-manager-at-colliers-project-leaders-canada-3767684577\", 0),\n",
    "    (\"004\", \"https://ca.linkedin.com/jobs/view/senior-project-manager-at-dmc-recruitment-group-3801585855\", 0),\n",
    "    (\"004\", \"https://ca.linkedin.com/jobs/view/charg%C3%A9-de-projet-s%C3%A9nior-at-bgis-3785854187\", 0),\n",
    "\n",
    "    # Candidate 005: Control Systems, Integration Engineering\n",
    "    (\"005\", \"https://www.linkedin.com/jobs/view/control-systems-integration-engineer-at-olsson-3793857817\", 1),  # Phù hợp\n",
    "    (\"005\", \"https://www.linkedin.com/jobs/view/control-systems-integration-engineer-at-olsson-3793858841\", 1),  # Phù hợp\n",
    "    (\"005\", \"https://www.linkedin.com/jobs/view/ae-i-lead-at-cargill-3801439972\", 0),  # Không phù hợp\n",
    "    (\"005\", \"https://www.linkedin.com/jobs/view/ae-i-technician-at-cargill-3745037053\", 0),  # Không phù hợp\n",
    "    (\"005\", \"https://www.linkedin.com/jobs/view/maintenance-technician-iii-at-cargill-3807747882\", 0),  # Không phù hợp\n",
    "\n",
    "    # Candidate 006: Retail Sales, Customer Service\n",
    "    (\"006\", \"https://www.linkedin.com/jobs/view/lead-sales-associate-pt-at-dollar-general-3580065885\", 1),  # Phù hợp\n",
    "    (\"006\", \"https://www.linkedin.com/jobs/view/retail-associate-part-time-west-washington-st-indianapolis-at-goodwill-of-central-southern-indiana-3796424455\", 0),\n",
    "    (\"006\", \"https://www.linkedin.com/jobs/view/retail-associate-part-time-crawfordsville-in-at-goodwill-of-central-southern-indiana-3796421574\", 0),\n",
    "    (\"006\", \"https://www.linkedin.com/jobs/view/purchasing-and-receiving-manager-at-davidson-hospitality-group-3777074000\", 0),\n",
    "    (\"006\", \"https://www.linkedin.com/jobs/view/retail-associate-part-time-avon-in-at-goodwill-of-central-southern-indiana-3796424444\", 0),\n",
    "\n",
    "    # Candidate 007: Tax Analysis, Product Analysis\n",
    "    (\"007\", \"https://www.linkedin.com/jobs/view/senior-associate-tax-product-analyst-at-kpmg-us-3764869128\", 1),  # Phù hợp\n",
    "    (\"007\", \"https://www.linkedin.com/jobs/view/pacs-cpacs-hemo-implementation-specialist-at-technogen-inc-3800249519\", 0),\n",
    "    (\"007\", \"https://www.linkedin.com/jobs/view/property-manager-at-sudler-property-management-3806867162\", 0), \n",
    "    (\"007\", \"https://www.linkedin.com/jobs/view/senior-analyst-bangkok-based-relocation-provided-at-agoda-3748492368\", 0),\n",
    "    (\"007\", \"https://www.linkedin.com/jobs/view/volunteer-executive-director-at-black-building-leadership-and-community-knowledge-3803987946\", 0),  \n",
    "\n",
    "    # Candidate 008: Property Management\n",
    "    (\"008\", \"https://uk.linkedin.com/jobs/view/property-manager-at-knight-dragon-ltd-3805009895\", 1),  # Phù hợp\n",
    "    (\"008\", \"https://uk.linkedin.com/jobs/view/rrpa-diary-manager-london-approved-premises-ref-76835-at-hm-prison-and-probation-service-3772076193\", 1),\n",
    "    (\"008\", \"https://uk.linkedin.com/jobs/view/cable-transport-installation-manager-japan-at-rwe-3789009132\", 1),\n",
    "    (\"008\", \"https://uk.linkedin.com/jobs/view/production-team-leaders-days-at-energy-jobline-3803177048\", 1),\n",
    "    (\"008\", \"https://uk.linkedin.com/jobs/view/general-practitioner-at-jupiter-recruitment-corporation-ltd-3804404066\", 1),\n",
    "\n",
    "    # Candidate 009: Development Services, Planning\n",
    "    (\"009\", \"https://www.linkedin.com/jobs/view/development-services-technician-at-county-of-san-joaquin-3769465536\", 1),  # Phù hợp\n",
    "    (\"009\", \"https://www.linkedin.com/jobs/view/planner-iii-at-county-of-calaveras-3700430020\", 1),\n",
    "    (\"009\", \"https://www.linkedin.com/jobs/view/electrical-engineer-at-rtm-engineering-consultants-3669230001\", 0),\n",
    "    (\"009\", \"https://www.linkedin.com/jobs/view/building-inspector-i-ii-at-merced-county-3803413040\", 0), \n",
    "    (\"009\", \"https://www.linkedin.com/jobs/view/construction-manager-at-m-i-homes-inc-3755121888\", 0),\n",
    "\n",
    "    # Candidate 010: Sales Management, Regional Sales\n",
    "    (\"010\", \"https://www.linkedin.com/jobs/view/regional-sales-manager-mid-atlantic-at-alfasigma-usa-inc-3806588517\", 1),  # Phù hợp\n",
    "    (\"010\", \"https://www.linkedin.com/jobs/view/territory-manager-at-jobot-3805148755\", 1), \n",
    "    (\"010\", \"https://www.linkedin.com/jobs/view/assistant-vice-president-transplant-at-atrium-health-3745432228\", 0),\n",
    "    (\"010\", \"https://www.linkedin.com/jobs/view/store-manager-at-community-choice-financial-family-of-brands-3797850347\", 0),\n",
    "    (\"010\", \"https://www.linkedin.com/jobs/view/director-of-sales-marketing-at-aimbridge-hospitality-3763398286\", 0),\n",
    "]\n",
    "# Tạo DataFrame ground truth\n",
    "ground_truth_schema = StructType([\n",
    "    StructField(\"candidate_id\", StringType(), True),\n",
    "    StructField(\"job_link\", StringType(), True),\n",
    "    StructField(\"is_relevant\", IntegerType(), True)\n",
    "])\n",
    "\n",
    "df_ground_truth = spark.createDataFrame(ground_truth_data, ground_truth_schema)\n",
    "\n",
    "# Lưu ground truth vào Delta Table\n",
    "dbutils.fs.rm(\"/FileStore/delta/ground_truth\", recurse=True)\n",
    "df_ground_truth.write.format(\"delta\").mode(\"overwrite\").save(\"/FileStore/delta/ground_truth\")\n",
    "print(\"Ground Truth đã được lưu vào /FileStore/delta/ground_truth\")\n",
    "\n",
    "# Chuyển ground truth thành dictionary để tra cứu nhanh\n",
    "ground_truth = {(row[\"candidate_id\"], row[\"job_link\"]): row[\"is_relevant\"] \n",
    "                for row in df_ground_truth.collect()}\n",
    "\n",
    "# So sánh dự đoán với ground truth và tính các chỉ số\n",
    "true_positives = 0\n",
    "false_positives = 0\n",
    "false_negatives = 0\n",
    "true_negatives = 0\n",
    "\n",
    "for pred in predictions:\n",
    "    candidate_id = pred[\"candidate_id\"]\n",
    "    job_link = pred[\"job_link\"]\n",
    "    predicted_relevant = pred[\"predicted_relevant\"]\n",
    "    actual_relevant = ground_truth.get((candidate_id, job_link), 0)\n",
    "\n",
    "    if predicted_relevant == 1 and actual_relevant == 1:\n",
    "        true_positives += 1\n",
    "    elif predicted_relevant == 1 and actual_relevant == 0:\n",
    "        false_positives += 1\n",
    "    elif predicted_relevant == 0 and actual_relevant == 1:\n",
    "        false_negatives += 1\n",
    "    elif predicted_relevant == 0 and actual_relevant == 0:\n",
    "        true_negatives += 1\n",
    "\n",
    "\n",
    "# Tính precision, recall, F1-score\n",
    "precision = true_positives / (true_positives + false_positives) if (true_positives + false_positives) > 0 else 0\n",
    "recall = true_positives / (true_positives + false_negatives) if (true_positives + false_negatives) > 0 else 0\n",
    "f1_score = 2 * (precision * recall) / (precision + recall) if (precision + recall) > 0 else 0\n",
    "\n",
    "# In kết quả đánh giá\n",
    "# In kết quả đánh giá\n",
    "print(\"Kết quả đánh giá mô hình:\")\n",
    "print(f\"True Positives: {true_positives}\")\n",
    "print(f\"False Positives: {false_positives}\")\n",
    "print(f\"False Negatives: {false_negatives}\")\n",
    "print(f\"True Negatives: {true_negatives}\")\n",
    "print(f\"Precision: {precision:.4f}\")\n",
    "print(f\"Recall: {recall:.4f}\")\n",
    "print(f\"F1-Score: {f1_score:.4f}\")"
   ]
  },
  {
   "cell_type": "code",
   "execution_count": 0,
   "metadata": {
    "application/vnd.databricks.v1+cell": {
     "cellMetadata": {
      "byteLimit": 2048000,
      "rowLimit": 10000
     },
     "inputWidgets": {},
     "nuid": "cd61a9dd-7ecd-4d8d-a0be-978eb346ed87",
     "showTitle": false,
     "tableResultSettingsMap": {},
     "title": ""
    }
   },
   "outputs": [
    {
     "output_type": "stream",
     "name": "stdout",
     "output_type": "stream",
     "text": [
      "Kết quả gợi ý công việc từ Delta Table:\n+--------------------+--------+--------------------+--------------------+--------------------+-------------------+\n|job_suitability_rank|query_sn|             company|            job_link|        job_location|   similarity_score|\n+--------------------+--------+--------------------+--------------------+--------------------+-------------------+\n|                   3|     003|          Bertucci's|https://www.linke...|      Brookfield, WI|0.14662195167403572|\n|                   4|     003|    Earl Enterprises|https://www.linke...|      Brookfield, WI| 0.1412224158312091|\n|                   5|     003|Maggiano's Little...|https://www.linke...|       Milwaukee, WI|0.13826915112079338|\n|                   1|     004|Shared Health-Soi...|https://ca.linked...|Winnipeg, Manitob...| 0.6227528616809993|\n|                   2|     004|   Bird Construction|https://ca.linked...|Winnipeg, Manitob...|0.14062922621939664|\n|                   3|     004|Colliers Project ...|https://ca.linked...|Winnipeg, Manitob...|0.12418848140723406|\n|                   2|     002|       ClearanceJobs|https://www.linke...|       San Diego, CA|0.13876423693742826|\n|                   3|     002|      Exact Sciences|https://www.linke...|       San Diego, CA|0.09987112458285595|\n|                   4|     002|             Natilus|https://www.linke...|       San Diego, CA| 0.0779811570044034|\n|                   5|     002|        Leonardo DRS|https://www.linke...|       San Diego, CA|0.07511950360856548|\n|                   1|     003|  Goodwin Recruiting|https://www.linke...|      Brookfield, WI| 0.9880913353966563|\n|                   2|     003|The Union House, ...|https://www.linke...|       Milwaukee, WI|0.16801429254972455|\n|                   1|     001|   Trinity Health MI|https://www.linke...|   Norton Shores, MI|                1.0|\n|                   2|     001|      Trinity Health|https://www.linke...|   Norton Shores, MI| 0.5573762752845485|\n|                   3|     001|Hackley Community...|https://www.linke...|        Muskegon, MI|0.21822716116317176|\n|                   4|     001|Saint Joseph Merc...|https://www.linke...|        Muskegon, MI|0.18632111253209027|\n|                   5|     001|Saint Joseph Merc...|https://www.linke...|   Norton Shores, MI|0.16853647196402996|\n|                   1|     002|           QuantalRF|https://www.linke...|       San Diego, CA| 0.9999999999999998|\n|                   4|     004|DMC Recruitment G...|https://ca.linked...|Victoria, Manitob...|0.11056886370728972|\n|                   5|     004|                BGIS|https://ca.linked...|Winnipeg, Manitob...|0.09652784065799977|\n+--------------------+--------+--------------------+--------------------+--------------------+-------------------+\nonly showing top 20 rows\n\nGround Truth từ Delta Table:\n+------------+--------------------+-----------+\n|candidate_id|            job_link|is_relevant|\n+------------+--------------------+-----------+\n|         002|https://www.linke...|          0|\n|         002|https://www.linke...|          0|\n|         002|https://www.linke...|          0|\n|         002|https://www.linke...|          0|\n|         003|https://www.linke...|          1|\n|         003|https://www.linke...|          1|\n|         001|https://www.linke...|          1|\n|         001|https://www.linke...|          1|\n|         001|https://www.linke...|          1|\n|         001|https://www.linke...|          0|\n|         001|https://www.linke...|          1|\n|         002|https://www.linke...|          1|\n|         003|https://www.linke...|          0|\n|         003|https://www.linke...|          0|\n|         003|https://www.linke...|          0|\n|         004|https://ca.linked...|          1|\n|         004|https://ca.linked...|          0|\n|         004|https://ca.linked...|          0|\n|         004|https://ca.linked...|          0|\n|         004|https://ca.linked...|          0|\n+------------+--------------------+-----------+\nonly showing top 20 rows\n\nKết quả đánh giá mô hình (ngưỡng = 0.15):\nTrue Positives: 20\nFalse Positives: 1\nFalse Negatives: 1\nTrue Negatives: 28\nPrecision: 0.9524\nRecall: 0.9524\nF1-Score: 0.9524\n"
     ]
    }
   ],
   "source": [
    "from pyspark.sql import SparkSession\n",
    "\n",
    "# Khởi tạo Spark session\n",
    "spark = SparkSession.builder.appName(\"ViewSavedResults\").getOrCreate()\n",
    "\n",
    "# Đọc dữ liệu từ Delta Table chứa kết quả gợi ý\n",
    "output_df = spark.read.format(\"delta\").load(\"/FileStore/delta/output_job_skills_match\")\n",
    "\n",
    "# Hiển thị kết quả\n",
    "print(\"Kết quả gợi ý công việc từ Delta Table:\")\n",
    "output_df.show()\n",
    "\n",
    "# Đọc dữ liệu Ground Truth để kiểm tra\n",
    "ground_truth_df = spark.read.format(\"delta\").load(\"/FileStore/delta/ground_truth\")\n",
    "\n",
    "# Hiển thị Ground Truth\n",
    "print(\"Ground Truth từ Delta Table:\")\n",
    "ground_truth_df.show()\n",
    "\n",
    "# Lấy danh sách dự đoán từ output_df\n",
    "predictions = []\n",
    "for row in output_df.collect():\n",
    "    predicted_relevant = 1 if row[\"similarity_score\"] >= 0.15 else 0\n",
    "    predictions.append({\n",
    "        \"candidate_id\": row[\"query_sn\"],\n",
    "        \"job_link\": row[\"job_link\"],\n",
    "        \"predicted_relevant\": predicted_relevant\n",
    "    })\n",
    "\n",
    "# Chuyển Ground Truth thành dictionary\n",
    "ground_truth = {(row[\"candidate_id\"], row[\"job_link\"]): row[\"is_relevant\"] \n",
    "                for row in ground_truth_df.collect()}\n",
    "\n",
    "# Tính các chỉ số\n",
    "true_positives = 0\n",
    "false_positives = 0\n",
    "false_negatives = 0\n",
    "true_negatives = 0\n",
    "\n",
    "for pred in predictions:\n",
    "    candidate_id = pred[\"candidate_id\"]\n",
    "    job_link = pred[\"job_link\"]\n",
    "    predicted_relevant = pred[\"predicted_relevant\"]\n",
    "    actual_relevant = ground_truth.get((candidate_id, job_link), 0)\n",
    "\n",
    "    if predicted_relevant == 1 and actual_relevant == 1:\n",
    "        true_positives += 1\n",
    "    elif predicted_relevant == 1 and actual_relevant == 0:\n",
    "        false_positives += 1\n",
    "    elif predicted_relevant == 0 and actual_relevant == 1:\n",
    "        false_negatives += 1\n",
    "    elif predicted_relevant == 0 and actual_relevant == 0:\n",
    "        true_negatives += 1\n",
    "\n",
    "# Tính các chỉ số đánh giá\n",
    "precision = true_positives / (true_positives + false_positives) if (true_positives + false_positives) > 0 else 0\n",
    "recall = true_positives / (true_positives + false_negatives) if (true_positives + false_negatives) > 0 else 0\n",
    "f1_score = 2 * (precision * recall) / (precision + recall) if (precision + recall) > 0 else 0\n",
    "\n",
    "# In kết quả đánh giá\n",
    "print(\"Kết quả đánh giá mô hình (ngưỡng = 0.15):\")\n",
    "print(f\"True Positives: {true_positives}\")\n",
    "print(f\"False Positives: {false_positives}\")\n",
    "print(f\"False Negatives: {false_negatives}\")\n",
    "print(f\"True Negatives: {true_negatives}\")\n",
    "print(f\"Precision: {precision:.4f}\")\n",
    "print(f\"Recall: {recall:.4f}\")\n",
    "print(f\"F1-Score: {f1_score:.4f}\")"
   ]
  }
 ],
 "metadata": {
  "application/vnd.databricks.v1+notebook": {
   "computePreferences": null,
   "dashboards": [],
   "environmentMetadata": {
    "base_environment": "",
    "environment_version": "1"
   },
   "inputWidgetPreferences": null,
   "language": "python",
   "notebookMetadata": {
    "pythonIndentUnit": 4
   },
   "notebookName": "Job Recommend",
   "widgets": {}
  }
 },
 "nbformat": 4,
 "nbformat_minor": 0
}